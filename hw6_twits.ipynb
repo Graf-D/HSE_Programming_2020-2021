{
 "cells": [
  {
   "cell_type": "code",
   "execution_count": null,
   "id": "african-surgeon",
   "metadata": {
    "colab": {
     "base_uri": "https://localhost:8080/"
    },
    "id": "occupied-enlargement",
    "outputId": "1b9b36c9-0482-48e5-a3af-d3e5fc5ae981"
   },
   "outputs": [],
   "source": [
    "!wget https://www.dropbox.com/s/r6u59ljhhjdg6j0/negative.csv\n",
    "!wget https://www.dropbox.com/s/fnpq3z4bcnoktiv/positive.csv"
   ]
  },
  {
   "cell_type": "code",
   "execution_count": 2,
   "id": "general-charleston",
   "metadata": {
    "id": "extra-seattle"
   },
   "outputs": [],
   "source": [
    "import pandas as pd\n",
    "\n",
    "headers = [\"id\", \"date\", \"name\", \"text\", \"type\", \"rep\", \"fav\", \"stcount\", \"fol\", \"frien\", \"listcount\"]\n",
    "neg_df = pd.read_csv(\"negative.csv\", sep=\";\", names=headers, index_col=False)\n",
    "pos_df = pd.read_csv(\"positive.csv\", sep=\";\", names=headers, index_col=False)"
   ]
  },
  {
   "cell_type": "code",
   "execution_count": 3,
   "id": "rural-graph",
   "metadata": {
    "colab": {
     "base_uri": "https://localhost:8080/",
     "height": 212
    },
    "id": "charged-amplifier",
    "outputId": "24d9df0a-05cf-4b4c-dbf0-101a2b24e124"
   },
   "outputs": [
    {
     "data": {
      "text/html": [
       "<div>\n",
       "<style scoped>\n",
       "    .dataframe tbody tr th:only-of-type {\n",
       "        vertical-align: middle;\n",
       "    }\n",
       "\n",
       "    .dataframe tbody tr th {\n",
       "        vertical-align: top;\n",
       "    }\n",
       "\n",
       "    .dataframe thead th {\n",
       "        text-align: right;\n",
       "    }\n",
       "</style>\n",
       "<table border=\"1\" class=\"dataframe\">\n",
       "  <thead>\n",
       "    <tr style=\"text-align: right;\">\n",
       "      <th></th>\n",
       "      <th>id</th>\n",
       "      <th>date</th>\n",
       "      <th>name</th>\n",
       "      <th>text</th>\n",
       "      <th>type</th>\n",
       "      <th>rep</th>\n",
       "      <th>fav</th>\n",
       "      <th>stcount</th>\n",
       "      <th>fol</th>\n",
       "      <th>frien</th>\n",
       "      <th>listcount</th>\n",
       "    </tr>\n",
       "  </thead>\n",
       "  <tbody>\n",
       "    <tr>\n",
       "      <th>0</th>\n",
       "      <td>408906762813579264</td>\n",
       "      <td>1386325944</td>\n",
       "      <td>dugarchikbellko</td>\n",
       "      <td>на работе был полный пиддес :| и так каждое за...</td>\n",
       "      <td>-1</td>\n",
       "      <td>0</td>\n",
       "      <td>0</td>\n",
       "      <td>0</td>\n",
       "      <td>8064</td>\n",
       "      <td>111</td>\n",
       "      <td>94</td>\n",
       "    </tr>\n",
       "    <tr>\n",
       "      <th>1</th>\n",
       "      <td>408906818262687744</td>\n",
       "      <td>1386325957</td>\n",
       "      <td>nugemycejela</td>\n",
       "      <td>Коллеги сидят рубятся в Urban terror, а я из-з...</td>\n",
       "      <td>-1</td>\n",
       "      <td>0</td>\n",
       "      <td>0</td>\n",
       "      <td>0</td>\n",
       "      <td>26</td>\n",
       "      <td>42</td>\n",
       "      <td>39</td>\n",
       "    </tr>\n",
       "    <tr>\n",
       "      <th>2</th>\n",
       "      <td>408906858515398656</td>\n",
       "      <td>1386325966</td>\n",
       "      <td>4post21</td>\n",
       "      <td>@elina_4post как говорят обещаного три года жд...</td>\n",
       "      <td>-1</td>\n",
       "      <td>0</td>\n",
       "      <td>0</td>\n",
       "      <td>0</td>\n",
       "      <td>718</td>\n",
       "      <td>49</td>\n",
       "      <td>249</td>\n",
       "    </tr>\n",
       "    <tr>\n",
       "      <th>3</th>\n",
       "      <td>408906914437685248</td>\n",
       "      <td>1386325980</td>\n",
       "      <td>Poliwake</td>\n",
       "      <td>Желаю хорошего полёта и удачной посадки,я буду...</td>\n",
       "      <td>-1</td>\n",
       "      <td>0</td>\n",
       "      <td>0</td>\n",
       "      <td>0</td>\n",
       "      <td>10628</td>\n",
       "      <td>207</td>\n",
       "      <td>200</td>\n",
       "    </tr>\n",
       "    <tr>\n",
       "      <th>4</th>\n",
       "      <td>408906914723295232</td>\n",
       "      <td>1386325980</td>\n",
       "      <td>capyvixowe</td>\n",
       "      <td>Обновил за каким-то лешим surf, теперь не рабо...</td>\n",
       "      <td>-1</td>\n",
       "      <td>0</td>\n",
       "      <td>0</td>\n",
       "      <td>0</td>\n",
       "      <td>35</td>\n",
       "      <td>17</td>\n",
       "      <td>34</td>\n",
       "    </tr>\n",
       "  </tbody>\n",
       "</table>\n",
       "</div>"
      ],
      "text/plain": [
       "                   id        date             name  \\\n",
       "0  408906762813579264  1386325944  dugarchikbellko   \n",
       "1  408906818262687744  1386325957     nugemycejela   \n",
       "2  408906858515398656  1386325966          4post21   \n",
       "3  408906914437685248  1386325980         Poliwake   \n",
       "4  408906914723295232  1386325980       capyvixowe   \n",
       "\n",
       "                                                text  type  rep  fav  stcount  \\\n",
       "0  на работе был полный пиддес :| и так каждое за...    -1    0    0        0   \n",
       "1  Коллеги сидят рубятся в Urban terror, а я из-з...    -1    0    0        0   \n",
       "2  @elina_4post как говорят обещаного три года жд...    -1    0    0        0   \n",
       "3  Желаю хорошего полёта и удачной посадки,я буду...    -1    0    0        0   \n",
       "4  Обновил за каким-то лешим surf, теперь не рабо...    -1    0    0        0   \n",
       "\n",
       "     fol  frien  listcount  \n",
       "0   8064    111         94  \n",
       "1     26     42         39  \n",
       "2    718     49        249  \n",
       "3  10628    207        200  \n",
       "4     35     17         34  "
      ]
     },
     "execution_count": 3,
     "metadata": {},
     "output_type": "execute_result"
    }
   ],
   "source": [
    "neg_df.head()"
   ]
  },
  {
   "cell_type": "code",
   "execution_count": 4,
   "id": "certain-birth",
   "metadata": {
    "colab": {
     "base_uri": "https://localhost:8080/",
     "height": 195
    },
    "id": "automatic-pregnancy",
    "outputId": "67ba59f4-6867-4d6a-c4fb-1006fdc00397"
   },
   "outputs": [
    {
     "data": {
      "text/html": [
       "<div>\n",
       "<style scoped>\n",
       "    .dataframe tbody tr th:only-of-type {\n",
       "        vertical-align: middle;\n",
       "    }\n",
       "\n",
       "    .dataframe tbody tr th {\n",
       "        vertical-align: top;\n",
       "    }\n",
       "\n",
       "    .dataframe thead th {\n",
       "        text-align: right;\n",
       "    }\n",
       "</style>\n",
       "<table border=\"1\" class=\"dataframe\">\n",
       "  <thead>\n",
       "    <tr style=\"text-align: right;\">\n",
       "      <th></th>\n",
       "      <th>id</th>\n",
       "      <th>date</th>\n",
       "      <th>name</th>\n",
       "      <th>text</th>\n",
       "      <th>type</th>\n",
       "      <th>rep</th>\n",
       "      <th>fav</th>\n",
       "      <th>stcount</th>\n",
       "      <th>fol</th>\n",
       "      <th>frien</th>\n",
       "      <th>listcount</th>\n",
       "    </tr>\n",
       "  </thead>\n",
       "  <tbody>\n",
       "    <tr>\n",
       "      <th>0</th>\n",
       "      <td>408906692374446080</td>\n",
       "      <td>1386325927</td>\n",
       "      <td>pleease_shut_up</td>\n",
       "      <td>@first_timee хоть я и школота, но поверь, у на...</td>\n",
       "      <td>1</td>\n",
       "      <td>0</td>\n",
       "      <td>0</td>\n",
       "      <td>0</td>\n",
       "      <td>7569</td>\n",
       "      <td>62</td>\n",
       "      <td>61</td>\n",
       "    </tr>\n",
       "    <tr>\n",
       "      <th>1</th>\n",
       "      <td>408906692693221377</td>\n",
       "      <td>1386325927</td>\n",
       "      <td>alinakirpicheva</td>\n",
       "      <td>Да, все-таки он немного похож на него. Но мой ...</td>\n",
       "      <td>1</td>\n",
       "      <td>0</td>\n",
       "      <td>0</td>\n",
       "      <td>0</td>\n",
       "      <td>11825</td>\n",
       "      <td>59</td>\n",
       "      <td>31</td>\n",
       "    </tr>\n",
       "    <tr>\n",
       "      <th>2</th>\n",
       "      <td>408906695083954177</td>\n",
       "      <td>1386325927</td>\n",
       "      <td>EvgeshaRe</td>\n",
       "      <td>RT @KatiaCheh: Ну ты идиотка) я испугалась за ...</td>\n",
       "      <td>1</td>\n",
       "      <td>0</td>\n",
       "      <td>1</td>\n",
       "      <td>0</td>\n",
       "      <td>1273</td>\n",
       "      <td>26</td>\n",
       "      <td>27</td>\n",
       "    </tr>\n",
       "    <tr>\n",
       "      <th>3</th>\n",
       "      <td>408906695356973056</td>\n",
       "      <td>1386325927</td>\n",
       "      <td>ikonnikova_21</td>\n",
       "      <td>RT @digger2912: \"Кто то в углу сидит и погибае...</td>\n",
       "      <td>1</td>\n",
       "      <td>0</td>\n",
       "      <td>1</td>\n",
       "      <td>0</td>\n",
       "      <td>1549</td>\n",
       "      <td>19</td>\n",
       "      <td>17</td>\n",
       "    </tr>\n",
       "    <tr>\n",
       "      <th>4</th>\n",
       "      <td>408906761416867842</td>\n",
       "      <td>1386325943</td>\n",
       "      <td>JumpyAlex</td>\n",
       "      <td>@irina_dyshkant Вот что значит страшилка :D\\nН...</td>\n",
       "      <td>1</td>\n",
       "      <td>0</td>\n",
       "      <td>0</td>\n",
       "      <td>0</td>\n",
       "      <td>597</td>\n",
       "      <td>16</td>\n",
       "      <td>23</td>\n",
       "    </tr>\n",
       "  </tbody>\n",
       "</table>\n",
       "</div>"
      ],
      "text/plain": [
       "                   id        date             name  \\\n",
       "0  408906692374446080  1386325927  pleease_shut_up   \n",
       "1  408906692693221377  1386325927  alinakirpicheva   \n",
       "2  408906695083954177  1386325927        EvgeshaRe   \n",
       "3  408906695356973056  1386325927    ikonnikova_21   \n",
       "4  408906761416867842  1386325943        JumpyAlex   \n",
       "\n",
       "                                                text  type  rep  fav  stcount  \\\n",
       "0  @first_timee хоть я и школота, но поверь, у на...     1    0    0        0   \n",
       "1  Да, все-таки он немного похож на него. Но мой ...     1    0    0        0   \n",
       "2  RT @KatiaCheh: Ну ты идиотка) я испугалась за ...     1    0    1        0   \n",
       "3  RT @digger2912: \"Кто то в углу сидит и погибае...     1    0    1        0   \n",
       "4  @irina_dyshkant Вот что значит страшилка :D\\nН...     1    0    0        0   \n",
       "\n",
       "     fol  frien  listcount  \n",
       "0   7569     62         61  \n",
       "1  11825     59         31  \n",
       "2   1273     26         27  \n",
       "3   1549     19         17  \n",
       "4    597     16         23  "
      ]
     },
     "execution_count": 4,
     "metadata": {},
     "output_type": "execute_result"
    }
   ],
   "source": [
    "pos_df.head()"
   ]
  },
  {
   "cell_type": "code",
   "execution_count": 5,
   "id": "advisory-music",
   "metadata": {
    "id": "earlier-jewelry"
   },
   "outputs": [],
   "source": [
    "import re\n",
    "\n",
    "def rm_punct(text):\n",
    "    res = re.sub(r\"[^\\w\\s]\", \" \", text.lower())\n",
    "    res = re.sub(r\"\\s+\", \" \", res)\n",
    "    return res.strip()"
   ]
  },
  {
   "cell_type": "code",
   "execution_count": 6,
   "id": "comfortable-cleaners",
   "metadata": {
    "id": "demonstrated-collar"
   },
   "outputs": [],
   "source": [
    "neg_df[\"text_rm_punct\"] = neg_df[\"text\"].apply(rm_punct)\n",
    "pos_df[\"text_rm_punct\"] = pos_df[\"text\"].apply(rm_punct)"
   ]
  },
  {
   "cell_type": "code",
   "execution_count": 7,
   "id": "contrary-biodiversity",
   "metadata": {
    "id": "marine-injury"
   },
   "outputs": [],
   "source": [
    "neg_texts = neg_df.text_rm_punct.values\n",
    "pos_texts = pos_df.text_rm_punct.values"
   ]
  },
  {
   "cell_type": "code",
   "execution_count": 8,
   "id": "certified-owner",
   "metadata": {
    "colab": {
     "base_uri": "https://localhost:8080/"
    },
    "id": "geological-component",
    "outputId": "ee07c23d-9550-4d33-9244-5954bbdf2f77"
   },
   "outputs": [
    {
     "data": {
      "text/plain": [
       "array(['first_timee хоть я и школота но поверь у нас то же самое d общество профилирующий предмет типа',\n",
       "       'да все таки он немного похож на него но мой мальчик все равно лучше d',\n",
       "       'rt katiacheh ну ты идиотка я испугалась за тебя', ...,\n",
       "       'что происходит со мной когда в эфире proactivefm звучит моя любимая песня dctalk music http t co 65kgffd5oo',\n",
       "       'любимая я подарю тебе эту звезду имя какой звезды переводится подмышка',\n",
       "       'ma_che_rie посмотри непытайтесьпокинутьомск сегодня в вавилоне в 18 20 я там тоже есть'],\n",
       "      dtype=object)"
      ]
     },
     "execution_count": 8,
     "metadata": {},
     "output_type": "execute_result"
    }
   ],
   "source": [
    "pos_texts"
   ]
  },
  {
   "cell_type": "code",
   "execution_count": 9,
   "id": "corporate-maximum",
   "metadata": {
    "id": "married-client"
   },
   "outputs": [],
   "source": [
    "from tensorflow.keras.models import Sequential, Model\n",
    "from tensorflow.keras.layers import Dense, Activation, Dropout, LSTM, Bidirectional, TimeDistributed, InputLayer\n",
    "from tensorflow.keras.layers import Embedding, Conv1D, Input, concatenate, SpatialDropout1D, Flatten\n",
    "from tensorflow.keras.preprocessing.sequence import pad_sequences\n",
    "from tensorflow.keras.utils import to_categorical\n",
    "from tensorflow.keras import optimizers\n",
    "import nltk\n",
    "import numpy as np\n",
    "from sklearn.model_selection import train_test_split\n",
    "import matplotlib.pyplot as plt\n",
    "from collections import Counter"
   ]
  },
  {
   "cell_type": "code",
   "execution_count": 10,
   "id": "disturbed-framing",
   "metadata": {
    "id": "nonprofit-webcam"
   },
   "outputs": [],
   "source": [
    "import numpy as np\n",
    "\n",
    "texts = np.concatenate([pos_texts, neg_texts])\n",
    "target = np.concatenate([pos_df[\"type\"].values, neg_df[\"type\"].values])\n",
    "\n",
    "X_train, X_test, y_train, y_test = train_test_split(texts, target, test_size=.2, random_state=1337)"
   ]
  },
  {
   "cell_type": "code",
   "execution_count": 11,
   "id": "failing-commander",
   "metadata": {
    "colab": {
     "base_uri": "https://localhost:8080/"
    },
    "id": "destroyed-championship",
    "outputId": "9cab0e92-29c4-4c0e-90bf-48b96c6af771"
   },
   "outputs": [
    {
     "data": {
      "text/plain": [
       "array(['lentaruofficial ну тут всё просто либо либо',\n",
       "       'мама когда же ты уже научишься себя беречь',\n",
       "       'rt yprtcrazy_mofo baisa04 ты мой 469 читатель добра тебе http t co lkm5nwykvm',\n",
       "       ...,\n",
       "       'q ты самая красивая девушка из 10 классов хотя и во всей школе a http t co rkdeczokvj',\n",
       "       'kks35he2013 охренеть а я только анг и историю и то додел надо',\n",
       "       'satstranger поживём увидим чё они там предложат но мне было бы интересно полапать такой девайс'],\n",
       "      dtype=object)"
      ]
     },
     "execution_count": 11,
     "metadata": {},
     "output_type": "execute_result"
    }
   ],
   "source": [
    "X_test"
   ]
  },
  {
   "cell_type": "markdown",
   "id": "twenty-impression",
   "metadata": {
    "id": "acquired-sharp"
   },
   "source": [
    "# Архитектура 1"
   ]
  },
  {
   "cell_type": "markdown",
   "id": "genetic-single",
   "metadata": {
    "id": "narrative-smooth"
   },
   "source": [
    "модель берет слова, пропускает их через Embedding слой. По эмбеддингам проходит biLSTM, на выходе линейный слой и выходной слой.\n",
    "\n",
    "Embedding слой обучается внутри модели -- 1 балл\n",
    "\n",
    "подгружаются обученные эмбеддинги для русского языка ** -- 1 балл\n",
    "\n",
    "fasttext эмбеддинги обучаются на всем корпусе с нуля *** -- 2 балла"
   ]
  },
  {
   "cell_type": "code",
   "execution_count": 12,
   "id": "featured-liberia",
   "metadata": {
    "id": "nearby-protest"
   },
   "outputs": [],
   "source": [
    "vocab = Counter()\n",
    "for sent in X_train:\n",
    "    sent = [word.lower() for word in sent.split()]\n",
    "    vocab.update(sent)"
   ]
  },
  {
   "cell_type": "code",
   "execution_count": 13,
   "id": "czech-hamburg",
   "metadata": {
    "id": "delayed-girlfriend"
   },
   "outputs": [],
   "source": [
    "filtered_vocab = {word for word in vocab if vocab[word] > 5}\n",
    "\n",
    "word2id = {word: i + 2 for i, word in enumerate(filtered_vocab)}\n",
    "word2id['pad'] = 0\n",
    "word2id['unk'] = 1  \n",
    "\n",
    "id2word = {i: word for word, i in word2id.items()}"
   ]
  },
  {
   "cell_type": "code",
   "execution_count": 14,
   "id": "important-furniture",
   "metadata": {
    "id": "loaded-reynolds"
   },
   "outputs": [],
   "source": [
    "def data2ints(data, smth2id):\n",
    "    int_data = []\n",
    "    for seq in data:\n",
    "        int_seq = []\n",
    "        for i in seq:\n",
    "            int_seq.append(smth2id.get(i.lower(), 1))\n",
    "  \n",
    "        int_data.append(int_seq)\n",
    "    return int_data"
   ]
  },
  {
   "cell_type": "code",
   "execution_count": 15,
   "id": "handed-remove",
   "metadata": {
    "id": "reverse-seven"
   },
   "outputs": [],
   "source": [
    "X_train_ids, X_test_ids = data2ints(X_train, word2id), data2ints(X_test, word2id)"
   ]
  },
  {
   "cell_type": "code",
   "execution_count": 16,
   "id": "exterior-timing",
   "metadata": {
    "colab": {
     "base_uri": "https://localhost:8080/"
    },
    "id": "distant-cookie",
    "outputId": "8d5f9faa-9da8-45e4-a797-0d8dcb241406"
   },
   "outputs": [
    {
     "data": {
      "text/plain": [
       "173"
      ]
     },
     "execution_count": 16,
     "metadata": {},
     "output_type": "execute_result"
    }
   ],
   "source": [
    "sent_max_len = max(len(x) for x in X_train_ids)\n",
    "\n",
    "sent_max_len"
   ]
  },
  {
   "cell_type": "code",
   "execution_count": 16,
   "id": "fourth-reviewer",
   "metadata": {
    "id": "enhanced-lawsuit"
   },
   "outputs": [],
   "source": [
    "X_train, X_test = pad_sequences(X_train_ids, maxlen=sent_max_len, padding='post'), pad_sequences(X_test_ids, maxlen=sent_max_len, padding='post')"
   ]
  },
  {
   "cell_type": "code",
   "execution_count": 17,
   "id": "desperate-silicon",
   "metadata": {
    "id": "hbQKHQuP6di3"
   },
   "outputs": [],
   "source": [
    "y_test_replaced = [elem if elem == 1 else 0 for elem in y_test]\r\n",
    "y_train_replaced = [elem if elem == 1 else 0 for elem in y_train]\r\n",
    "\r\n",
    "y_train_cat = to_categorical(y_train_replaced, num_classes=2)\r\n",
    "y_test_cat = to_categorical(y_test_replaced, num_classes=2)"
   ]
  },
  {
   "cell_type": "code",
   "execution_count": 18,
   "id": "compressed-builder",
   "metadata": {
    "colab": {
     "base_uri": "https://localhost:8080/"
    },
    "id": "perceived-springer",
    "outputId": "51063883-f290-488f-b4ce-c2f7e6c06a96"
   },
   "outputs": [
    {
     "data": {
      "text/plain": [
       "((181467, 173), (181467, 2), (45367, 173), (45367, 2))"
      ]
     },
     "execution_count": 18,
     "metadata": {},
     "output_type": "execute_result"
    }
   ],
   "source": [
    "X_train.shape, y_train_cat.shape, X_test.shape, y_test_cat.shape"
   ]
  },
  {
   "cell_type": "code",
   "execution_count": 27,
   "id": "offensive-meeting",
   "metadata": {
    "id": "racial-distributor"
   },
   "outputs": [],
   "source": [
    "import tensorflow as tf\n",
    "\n",
    "metrics = [tf.keras.metrics.Precision(), tf.keras.metrics.Recall(), tf.keras.metrics.Accuracy()]"
   ]
  },
  {
   "cell_type": "code",
   "execution_count": null,
   "id": "fewer-chain",
   "metadata": {
    "id": "accredited-opportunity"
   },
   "outputs": [],
   "source": [
    "word_in = Input(shape=(sent_max_len))\n",
    "emb_word = Embedding(input_dim=len(word2id), output_dim=20, input_length=sent_max_len, mask_zero=True)(word_in)\n",
    "lstm = Bidirectional(LSTM(units=128))(emb_word)\n",
    "out = Dense(2, activation=\"softmax\")(lstm)\n",
    "\n",
    "model = Model(inputs=word_in, outputs=out)\n",
    "\n",
    "optimizer = optimizers.Adam(learning_rate=0.01)\n",
    "model.compile(optimizer=optimizer, loss=\"binary_crossentropy\", metrics=metrics)"
   ]
  },
  {
   "cell_type": "code",
   "execution_count": null,
   "id": "polish-ownership",
   "metadata": {
    "colab": {
     "base_uri": "https://localhost:8080/"
    },
    "id": "RhLvykWX0mqs",
    "outputId": "aa430799-3fb7-42ed-931a-8cd9ca003633"
   },
   "outputs": [
    {
     "name": "stdout",
     "output_type": "stream",
     "text": [
      "Model: \"model\"\n",
      "_________________________________________________________________\n",
      "Layer (type)                 Output Shape              Param #   \n",
      "=================================================================\n",
      "input_1 (InputLayer)         [(None, 173)]             0         \n",
      "_________________________________________________________________\n",
      "embedding (Embedding)        (None, 173, 20)           522560    \n",
      "_________________________________________________________________\n",
      "bidirectional (Bidirectional (None, 256)               152576    \n",
      "_________________________________________________________________\n",
      "dense (Dense)                (None, 2)                 514       \n",
      "=================================================================\n",
      "Total params: 675,650\n",
      "Trainable params: 675,650\n",
      "Non-trainable params: 0\n",
      "_________________________________________________________________\n"
     ]
    }
   ],
   "source": [
    "model.summary()"
   ]
  },
  {
   "cell_type": "code",
   "execution_count": null,
   "id": "obvious-entertainment",
   "metadata": {
    "colab": {
     "base_uri": "https://localhost:8080/"
    },
    "id": "cVeNEkCj20en",
    "outputId": "89b85826-f2e1-4489-b2ca-1957149a0569"
   },
   "outputs": [
    {
     "name": "stdout",
     "output_type": "stream",
     "text": [
      "Epoch 1/2\n",
      "1418/1418 [==============================] - 1644s 1s/step - loss: 0.6263 - precision: 0.6246 - recall: 0.6246 - accuracy: 1.0677e-07 - val_loss: 0.5911 - val_precision: 0.6603 - val_recall: 0.6603 - val_accuracy: 1.8736e-04\n",
      "Epoch 2/2\n",
      "1418/1418 [==============================] - 1702s 1s/step - loss: 0.5702 - precision: 0.6795 - recall: 0.6795 - accuracy: 2.0750e-04 - val_loss: 0.5174 - val_precision: 0.7217 - val_recall: 0.7217 - val_accuracy: 8.9272e-04\n"
     ]
    },
    {
     "data": {
      "text/plain": [
       "<tensorflow.python.keras.callbacks.History at 0x7f6a165976a0>"
      ]
     },
     "execution_count": 23,
     "metadata": {
      "tags": []
     },
     "output_type": "execute_result"
    }
   ],
   "source": [
    "model.fit(X_train, y_train_cat, validation_data=(X_test, y_test_cat), batch_size=128, epochs=2, verbose=1)"
   ]
  },
  {
   "cell_type": "markdown",
   "id": "bizarre-artist",
   "metadata": {
    "id": "9Wtpi_Vcu5nj"
   },
   "source": [
    "С accuracy проблема: модель предсказывает числа типа 9.7562476e-1, а сравнивает с 0 и 1. Давайте округлим и пересчитаем"
   ]
  },
  {
   "cell_type": "code",
   "execution_count": null,
   "id": "induced-observation",
   "metadata": {
    "id": "zmtq8jPGszTM"
   },
   "outputs": [],
   "source": [
    "pred = model.predict(X_test[:1000])  # полностью предсказывает долго\r\n",
    "\r\n",
    "rounded_pred = []\r\n",
    "for pair in pred:\r\n",
    "  rounded_pred.append([round(pair[0]), round(pair[1])])"
   ]
  },
  {
   "cell_type": "code",
   "execution_count": 34,
   "id": "seven-brighton",
   "metadata": {
    "id": "4nN9HEj2bmA5"
   },
   "outputs": [],
   "source": [
    "from sklearn.metrics import precision_score, recall_score, accuracy_score"
   ]
  },
  {
   "cell_type": "code",
   "execution_count": null,
   "id": "broken-index",
   "metadata": {
    "colab": {
     "base_uri": "https://localhost:8080/"
    },
    "id": "8FejcGSfcVvW",
    "outputId": "943608d7-72a2-4167-a1fd-cb6a7072b97b"
   },
   "outputs": [
    {
     "name": "stdout",
     "output_type": "stream",
     "text": [
      "Precision: 0.7363157810524968\n",
      "Recall: 0.742206333327867\n",
      "Accuracy: 0.736\n"
     ]
    }
   ],
   "source": [
    "prec = precision_score(rounded_pred, y_test_cat[:1000], average=\"macro\")\r\n",
    "rec = recall_score(rounded_pred, y_test_cat[:1000], average=\"macro\")\r\n",
    "acc = accuracy_score(rounded_pred, y_test_cat[:1000])\r\n",
    "\r\n",
    "print(f\"Precision: {prec}\")\r\n",
    "print(f\"Recall: {rec}\")\r\n",
    "print(f\"Accuracy: {acc}\")"
   ]
  },
  {
   "cell_type": "markdown",
   "id": "standard-working",
   "metadata": {
    "id": "5HtR21TV4mcx"
   },
   "source": [
    "Я сохраню здесь вывод ячейки выше:\r\n",
    "\r\n",
    "Precision: 0.7363157810524968\r\n",
    "Recall: 0.742206333327867\r\n",
    "Accuracy: 0.736"
   ]
  },
  {
   "cell_type": "markdown",
   "id": "tutorial-explosion",
   "metadata": {
    "id": "Ew_FFpOm3zCe"
   },
   "source": [
    "# Архитектура 2"
   ]
  },
  {
   "cell_type": "code",
   "execution_count": null,
   "id": "accepted-haven",
   "metadata": {
    "id": "A8CXnl3532jp"
   },
   "outputs": [],
   "source": [
    "# изменим размерность эмбеддингов и лстм, добавим дропаут\r\n",
    "\r\n",
    "word_in = Input(shape=(sent_max_len))\r\n",
    "emb_word = Embedding(input_dim=len(word2id), output_dim=50, input_length=sent_max_len, mask_zero=True)(word_in)\r\n",
    "lstm = Bidirectional(LSTM(units=256, recurrent_dropout=0.15))(emb_word)\r\n",
    "out = Dense(2, activation=\"softmax\")(lstm)\r\n",
    "\r\n",
    "model = Model(inputs=word_in, outputs=out)\r\n",
    "\r\n",
    "optimizer = optimizers.Adam(learning_rate=0.01)\r\n",
    "model.compile(optimizer=optimizer, loss=\"binary_crossentropy\", metrics=metrics)"
   ]
  },
  {
   "cell_type": "code",
   "execution_count": null,
   "id": "senior-prerequisite",
   "metadata": {
    "colab": {
     "base_uri": "https://localhost:8080/"
    },
    "id": "ypYmK7sq4j2m",
    "outputId": "882b696c-b15a-469a-9224-8ba964c8b728"
   },
   "outputs": [
    {
     "name": "stdout",
     "output_type": "stream",
     "text": [
      "Model: \"model_3\"\n",
      "_________________________________________________________________\n",
      "Layer (type)                 Output Shape              Param #   \n",
      "=================================================================\n",
      "input_5 (InputLayer)         [(None, 173)]             0         \n",
      "_________________________________________________________________\n",
      "embedding_4 (Embedding)      (None, 173, 50)           1306400   \n",
      "_________________________________________________________________\n",
      "bidirectional_3 (Bidirection (None, 512)               628736    \n",
      "_________________________________________________________________\n",
      "dense_3 (Dense)              (None, 2)                 1026      \n",
      "=================================================================\n",
      "Total params: 1,936,162\n",
      "Trainable params: 1,936,162\n",
      "Non-trainable params: 0\n",
      "_________________________________________________________________\n"
     ]
    }
   ],
   "source": [
    "model.summary()"
   ]
  },
  {
   "cell_type": "code",
   "execution_count": null,
   "id": "impressive-delaware",
   "metadata": {
    "colab": {
     "base_uri": "https://localhost:8080/"
    },
    "id": "iHvD7EgC41vl",
    "outputId": "853903b6-9fb7-44c9-e774-ae6c4144bf3e"
   },
   "outputs": [
    {
     "name": "stdout",
     "output_type": "stream",
     "text": [
      "Epoch 1/2\n",
      "1418/1418 [==============================] - 7134s 5s/step - loss: 0.6273 - precision: 0.6789 - recall: 0.6789 - accuracy: 4.1561e-04 - val_loss: 0.5550 - val_precision: 0.6974 - val_recall: 0.6974 - val_accuracy: 0.0000e+00\n",
      "Epoch 2/2\n",
      "1418/1418 [==============================] - 7072s 5s/step - loss: 0.5326 - precision: 0.7188 - recall: 0.7188 - accuracy: 9.0896e-05 - val_loss: 0.5053 - val_precision: 0.7380 - val_recall: 0.7380 - val_accuracy: 1.6532e-04\n"
     ]
    },
    {
     "data": {
      "text/plain": [
       "<tensorflow.python.keras.callbacks.History at 0x7f6a0c1a1710>"
      ]
     },
     "execution_count": 38,
     "metadata": {
      "tags": []
     },
     "output_type": "execute_result"
    }
   ],
   "source": [
    "model.fit(X_train, y_train_cat, validation_data=(X_test, y_test_cat), batch_size=128, epochs=2, verbose=1)"
   ]
  },
  {
   "cell_type": "markdown",
   "id": "weird-checkout",
   "metadata": {
    "id": "Et1vJSgmPh_r"
   },
   "source": [
    "Очень медленно обучается (ну, в целом, ожидаемо), оставила модель в колабе на ночь"
   ]
  },
  {
   "cell_type": "code",
   "execution_count": null,
   "id": "second-fellow",
   "metadata": {
    "colab": {
     "base_uri": "https://localhost:8080/"
    },
    "id": "i-EoRW41hzCw",
    "outputId": "56d30bfe-1076-405d-8158-53f963c370cd"
   },
   "outputs": [
    {
     "name": "stdout",
     "output_type": "stream",
     "text": [
      "Precision: 0.7446639146226339\n",
      "Recall: 0.7519410977242302\n",
      "Accuracy: 0.745\n"
     ]
    }
   ],
   "source": [
    "pred = model.predict(X_test[:1000])\r\n",
    "\r\n",
    "rounded_pred = []\r\n",
    "for pair in pred:\r\n",
    "  rounded_pred.append([round(pair[0]), round(pair[1])])\r\n",
    "\r\n",
    "\r\n",
    "prec = precision_score(rounded_pred, y_test_cat[:1000], average=\"macro\")\r\n",
    "rec = recall_score(rounded_pred, y_test_cat[:1000], average=\"macro\")\r\n",
    "acc = accuracy_score(rounded_pred, y_test_cat[:1000])\r\n",
    "\r\n",
    "print(f\"Precision: {prec}\")\r\n",
    "print(f\"Recall: {rec}\")\r\n",
    "print(f\"Accuracy: {acc}\")"
   ]
  },
  {
   "cell_type": "markdown",
   "id": "thirty-botswana",
   "metadata": {
    "id": "hoiJF6O9ew5E"
   },
   "source": [
    "Precision: 0.7446639146226339\r\n",
    "Recall: 0.7519410977242302\r\n",
    "Accuracy: 0.745"
   ]
  },
  {
   "cell_type": "markdown",
   "id": "attended-navigation",
   "metadata": {
    "id": "7bR606P_PwgK"
   },
   "source": [
    "# Архитектура 3"
   ]
  },
  {
   "cell_type": "markdown",
   "id": "careful-bailey",
   "metadata": {
    "id": "1tNDPToHe_dG"
   },
   "source": [
    "Сначала я прерывала обучение архитектуры 2, т.к. оно было очень медленным, поэтому эти результаты получила раньше, чем те, что выше. Так что формально это 2, а 2 — это 3, но не думаю, что нумерация на что-то влияет"
   ]
  },
  {
   "cell_type": "code",
   "execution_count": null,
   "id": "finite-shore",
   "metadata": {
    "id": "OL2lFHxDPyQ3"
   },
   "outputs": [],
   "source": [
    "# вернем размерности, оставим дропаут\r\n",
    "\r\n",
    "word_in = Input(shape=(sent_max_len))\r\n",
    "emb_word = Embedding(input_dim=len(word2id), output_dim=20, input_length=sent_max_len, mask_zero=True)(word_in)\r\n",
    "lstm = Bidirectional(LSTM(units=128, recurrent_dropout=0.15))(emb_word)\r\n",
    "out = Dense(2, activation=\"softmax\")(lstm)\r\n",
    "\r\n",
    "model = Model(inputs=word_in, outputs=out)\r\n",
    "\r\n",
    "optimizer = optimizers.Adam(learning_rate=0.01)\r\n",
    "model.compile(optimizer=optimizer, loss=\"binary_crossentropy\", metrics=metrics)"
   ]
  },
  {
   "cell_type": "code",
   "execution_count": null,
   "id": "bright-fellowship",
   "metadata": {
    "colab": {
     "base_uri": "https://localhost:8080/"
    },
    "id": "0KUYElX9P6pS",
    "outputId": "a18eb79d-ee45-4a03-a902-ab6790579a05"
   },
   "outputs": [
    {
     "name": "stdout",
     "output_type": "stream",
     "text": [
      "Epoch 1/2\n",
      "1418/1418 [==============================] - 2316s 2s/step - loss: 0.6232 - precision: 0.6386 - recall: 0.6386 - accuracy: 1.4995e-04 - val_loss: 0.5279 - val_precision: 0.7196 - val_recall: 0.7196 - val_accuracy: 5.5106e-05\n",
      "Epoch 2/2\n",
      "1418/1418 [==============================] - 2315s 2s/step - loss: 0.5319 - precision: 0.7179 - recall: 0.7179 - accuracy: 2.6501e-04 - val_loss: 0.4893 - val_precision: 0.7496 - val_recall: 0.7496 - val_accuracy: 0.0010\n"
     ]
    },
    {
     "data": {
      "text/plain": [
       "<tensorflow.python.keras.callbacks.History at 0x7f6a1007d828>"
      ]
     },
     "execution_count": 33,
     "metadata": {
      "tags": []
     },
     "output_type": "execute_result"
    }
   ],
   "source": [
    "model.fit(X_train, y_train_cat, validation_data=(X_test, y_test_cat), batch_size=128, epochs=2, verbose=1)"
   ]
  },
  {
   "cell_type": "code",
   "execution_count": null,
   "id": "mounted-retention",
   "metadata": {
    "colab": {
     "base_uri": "https://localhost:8080/"
    },
    "id": "extNF5gRP-SA",
    "outputId": "a540a60d-8f79-475c-ab0a-8c1042e8c0de"
   },
   "outputs": [
    {
     "name": "stdout",
     "output_type": "stream",
     "text": [
      "Precision: 0.765988255812093\n",
      "Recall: 0.7660010240655402\n",
      "Accuracy: 0.766\n"
     ]
    }
   ],
   "source": [
    "pred = model.predict(X_test[:1000])\r\n",
    "\r\n",
    "rounded_pred = []\r\n",
    "for pair in pred:\r\n",
    "  rounded_pred.append([round(pair[0]), round(pair[1])])\r\n",
    "\r\n",
    "\r\n",
    "prec = precision_score(rounded_pred, y_test_cat[:1000], average=\"macro\")\r\n",
    "rec = recall_score(rounded_pred, y_test_cat[:1000], average=\"macro\")\r\n",
    "acc = accuracy_score(rounded_pred, y_test_cat[:1000])\r\n",
    "\r\n",
    "print(f\"Precision: {prec}\")\r\n",
    "print(f\"Recall: {rec}\")\r\n",
    "print(f\"Accuracy: {acc}\")"
   ]
  },
  {
   "cell_type": "markdown",
   "id": "august-green",
   "metadata": {
    "id": "wZ7555BShr3E"
   },
   "source": [
    "Precision: 0.765988255812093\r\n",
    "Recall: 0.7660010240655402\r\n",
    "Accuracy: 0.766"
   ]
  },
  {
   "cell_type": "markdown",
   "id": "written-damages",
   "metadata": {
    "id": "dAljzMew7o2q"
   },
   "source": [
    "У архитектуры 1 (базовой) все метрики ~0.74, у архитектуры 2 — 0.74-0.75, у архитектуры 3 — 0.76-0.77. Вывод: с размером эмбеддингов 20, 128 нейронами в LSTM + дропаутом 0.15 получается лучше всего."
   ]
  },
  {
   "cell_type": "markdown",
   "id": "accurate-financing",
   "metadata": {
    "id": "Q3lc-DQ78JTo"
   },
   "source": [
    "# Готовые эмбеддинги"
   ]
  },
  {
   "cell_type": "code",
   "execution_count": 24,
   "id": "american-motel",
   "metadata": {},
   "outputs": [],
   "source": [
    "from gensim.models import KeyedVectors\n",
    "\n",
    "araneum_fasttext = KeyedVectors.load('araneum_none_fasttextcbow_300_5_2018.model')"
   ]
  },
  {
   "cell_type": "code",
   "execution_count": 25,
   "id": "facial-cabinet",
   "metadata": {},
   "outputs": [],
   "source": [
    "weights = np.array([araneum_fasttext[id2word[id_]] for id_ in id2word])"
   ]
  },
  {
   "cell_type": "code",
   "execution_count": 27,
   "id": "extra-exhibition",
   "metadata": {
    "id": "bw__hmcP5WMR"
   },
   "outputs": [
    {
     "data": {
      "text/plain": [
       "(26128, 300)"
      ]
     },
     "execution_count": 27,
     "metadata": {},
     "output_type": "execute_result"
    }
   ],
   "source": [
    "weights.shape"
   ]
  },
  {
   "cell_type": "code",
   "execution_count": 29,
   "id": "cardiac-dealer",
   "metadata": {
    "id": "off2YYv1_XGM"
   },
   "outputs": [],
   "source": [
    "# возьмем за основу архитектуру 3\n",
    "\n",
    "\n",
    "word_in = Input(shape=(sent_max_len))\n",
    "emb_word = Embedding(input_dim=len(word2id), output_dim=300, trainable=False, weights=[weights])(word_in)\n",
    "lstm = Bidirectional(LSTM(units=128, recurrent_dropout=0.15))(emb_word)\n",
    "out = Dense(2, activation=\"softmax\")(lstm)\n",
    "\n",
    "model = Model(inputs=word_in, outputs=out)\n",
    "\n",
    "optimizer = optimizers.Adam(learning_rate=0.01)\n",
    "model.compile(optimizer=optimizer, loss=\"binary_crossentropy\", metrics=metrics)"
   ]
  },
  {
   "cell_type": "code",
   "execution_count": 30,
   "id": "meaning-cabin",
   "metadata": {
    "id": "O5Ph3csK_YCd"
   },
   "outputs": [
    {
     "name": "stdout",
     "output_type": "stream",
     "text": [
      "Model: \"functional_1\"\n",
      "_________________________________________________________________\n",
      "Layer (type)                 Output Shape              Param #   \n",
      "=================================================================\n",
      "input_4 (InputLayer)         [(None, 173)]             0         \n",
      "_________________________________________________________________\n",
      "embedding_3 (Embedding)      (None, 173, 300)          7838400   \n",
      "_________________________________________________________________\n",
      "bidirectional (Bidirectional (None, 256)               439296    \n",
      "_________________________________________________________________\n",
      "dense (Dense)                (None, 2)                 514       \n",
      "=================================================================\n",
      "Total params: 8,278,210\n",
      "Trainable params: 439,810\n",
      "Non-trainable params: 7,838,400\n",
      "_________________________________________________________________\n"
     ]
    }
   ],
   "source": [
    "model.summary()"
   ]
  },
  {
   "cell_type": "code",
   "execution_count": 31,
   "id": "removed-fairy",
   "metadata": {},
   "outputs": [
    {
     "name": "stdout",
     "output_type": "stream",
     "text": [
      "1418/1418 [==============================] - 465s 328ms/step - loss: 0.6149 - precision: 0.6387 - recall: 0.6387 - accuracy: 0.0000e+00 - val_loss: 0.5229 - val_precision: 0.7157 - val_recall: 0.7157 - val_accuracy: 0.0000e+00\n"
     ]
    },
    {
     "data": {
      "text/plain": [
       "<tensorflow.python.keras.callbacks.History at 0x7f72926a6220>"
      ]
     },
     "execution_count": 31,
     "metadata": {},
     "output_type": "execute_result"
    }
   ],
   "source": [
    "model.fit(X_train, y_train_cat, validation_data=(X_test, y_test_cat), batch_size=128, epochs=1, verbose=1)"
   ]
  },
  {
   "cell_type": "code",
   "execution_count": 32,
   "id": "secondary-forge",
   "metadata": {},
   "outputs": [
    {
     "name": "stdout",
     "output_type": "stream",
     "text": [
      "1418/1418 [==============================] - 465s 328ms/step - loss: 0.4968 - precision: 0.7415 - recall: 0.7415 - accuracy: 0.0000e+00 - val_loss: 0.4736 - val_precision: 0.7599 - val_recall: 0.7599 - val_accuracy: 0.0000e+00\n"
     ]
    },
    {
     "data": {
      "text/plain": [
       "<tensorflow.python.keras.callbacks.History at 0x7f7261289940>"
      ]
     },
     "execution_count": 32,
     "metadata": {},
     "output_type": "execute_result"
    }
   ],
   "source": [
    "model.fit(X_train, y_train_cat, validation_data=(X_test, y_test_cat), batch_size=128, epochs=1, verbose=1)"
   ]
  },
  {
   "cell_type": "code",
   "execution_count": 35,
   "id": "indirect-cabin",
   "metadata": {},
   "outputs": [
    {
     "name": "stdout",
     "output_type": "stream",
     "text": [
      "Precision: 0.7819645114321829\n",
      "Recall: 0.7820728291316527\n",
      "Accuracy: 0.782\n"
     ]
    }
   ],
   "source": [
    "pred = model.predict(X_test[:1000])\n",
    "\n",
    "rounded_pred = []\n",
    "for pair in pred:\n",
    "  rounded_pred.append([round(pair[0]), round(pair[1])])\n",
    "\n",
    "\n",
    "prec = precision_score(rounded_pred, y_test_cat[:1000], average=\"macro\")\n",
    "rec = recall_score(rounded_pred, y_test_cat[:1000], average=\"macro\")\n",
    "acc = accuracy_score(rounded_pred, y_test_cat[:1000])\n",
    "\n",
    "print(f\"Precision: {prec}\")\n",
    "print(f\"Recall: {rec}\")\n",
    "print(f\"Accuracy: {acc}\")"
   ]
  },
  {
   "cell_type": "markdown",
   "id": "advance-reaction",
   "metadata": {},
   "source": [
    "Получилось еще лучше!"
   ]
  },
  {
   "cell_type": "markdown",
   "id": "direct-container",
   "metadata": {},
   "source": [
    "# Эмбеддинги fasttext с нуля"
   ]
  },
  {
   "cell_type": "code",
   "execution_count": 41,
   "id": "alive-douglas",
   "metadata": {},
   "outputs": [],
   "source": [
    "corpus = np.concatenate([pos_texts, neg_texts])"
   ]
  },
  {
   "cell_type": "code",
   "execution_count": 48,
   "id": "attached-biotechnology",
   "metadata": {},
   "outputs": [],
   "source": [
    "import gensim\n",
    "\n",
    "ft = gensim.models.FastText(corpus, size=300, iter=5)"
   ]
  },
  {
   "cell_type": "code",
   "execution_count": 49,
   "id": "bulgarian-rocket",
   "metadata": {},
   "outputs": [
    {
     "name": "stderr",
     "output_type": "stream",
     "text": [
      "<ipython-input-49-c068eb0099b7>:1: DeprecationWarning: Call to deprecated `__getitem__` (Method will be removed in 4.0.0, use self.wv.__getitem__() instead).\n",
      "  ft_weights = np.array([ft[id2word[id_]] for id_ in id2word])\n"
     ]
    }
   ],
   "source": [
    "ft_weights = np.array([ft[id2word[id_]] for id_ in id2word])"
   ]
  },
  {
   "cell_type": "code",
   "execution_count": 50,
   "id": "upper-purpose",
   "metadata": {},
   "outputs": [],
   "source": [
    "word_in = Input(shape=(sent_max_len))\n",
    "emb_word = Embedding(input_dim=len(word2id), output_dim=300, trainable=False, weights=[ft_weights])(word_in)\n",
    "lstm = Bidirectional(LSTM(units=128, recurrent_dropout=0.15))(emb_word)\n",
    "out = Dense(2, activation=\"softmax\")(lstm)\n",
    "\n",
    "model = Model(inputs=word_in, outputs=out)\n",
    "\n",
    "optimizer = optimizers.Adam(learning_rate=0.01)\n",
    "model.compile(optimizer=optimizer, loss=\"binary_crossentropy\", metrics=metrics)"
   ]
  },
  {
   "cell_type": "code",
   "execution_count": 51,
   "id": "pacific-protein",
   "metadata": {},
   "outputs": [
    {
     "name": "stdout",
     "output_type": "stream",
     "text": [
      "Model: \"functional_3\"\n",
      "_________________________________________________________________\n",
      "Layer (type)                 Output Shape              Param #   \n",
      "=================================================================\n",
      "input_6 (InputLayer)         [(None, 173)]             0         \n",
      "_________________________________________________________________\n",
      "embedding_5 (Embedding)      (None, 173, 300)          7838400   \n",
      "_________________________________________________________________\n",
      "bidirectional_1 (Bidirection (None, 256)               439296    \n",
      "_________________________________________________________________\n",
      "dense_1 (Dense)              (None, 2)                 514       \n",
      "=================================================================\n",
      "Total params: 8,278,210\n",
      "Trainable params: 439,810\n",
      "Non-trainable params: 7,838,400\n",
      "_________________________________________________________________\n"
     ]
    }
   ],
   "source": [
    "model.summary()"
   ]
  },
  {
   "cell_type": "code",
   "execution_count": 52,
   "id": "gothic-martial",
   "metadata": {},
   "outputs": [
    {
     "name": "stdout",
     "output_type": "stream",
     "text": [
      "Epoch 1/2\n",
      "1418/1418 [==============================] - 465s 328ms/step - loss: 0.6986 - precision: 0.5544 - recall: 0.5544 - accuracy: 0.0000e+00 - val_loss: 0.7052 - val_precision: 0.4914 - val_recall: 0.4914 - val_accuracy: 0.0000e+00\n",
      "Epoch 2/2\n",
      "1418/1418 [==============================] - 466s 328ms/step - loss: 0.6972 - precision: 0.5022 - recall: 0.5022 - accuracy: 0.0000e+00 - val_loss: 0.6940 - val_precision: 0.5086 - val_recall: 0.5086 - val_accuracy: 0.0000e+00\n"
     ]
    },
    {
     "data": {
      "text/plain": [
       "<tensorflow.python.keras.callbacks.History at 0x7f725fcd3160>"
      ]
     },
     "execution_count": 52,
     "metadata": {},
     "output_type": "execute_result"
    }
   ],
   "source": [
    "model.fit(X_train, y_train_cat, validation_data=(X_test, y_test_cat), batch_size=128, epochs=2, verbose=1)"
   ]
  },
  {
   "cell_type": "code",
   "execution_count": 53,
   "id": "piano-bunny",
   "metadata": {},
   "outputs": [
    {
     "name": "stdout",
     "output_type": "stream",
     "text": [
      "Precision: 0.5\n",
      "Recall: 0.251\n",
      "Accuracy: 0.502\n"
     ]
    },
    {
     "name": "stderr",
     "output_type": "stream",
     "text": [
      "/home/grafd/venv/lib/python3.8/site-packages/sklearn/metrics/_classification.py:1245: UndefinedMetricWarning: Recall is ill-defined and being set to 0.0 in labels with no true samples. Use `zero_division` parameter to control this behavior.\n",
      "  _warn_prf(average, modifier, msg_start, len(result))\n"
     ]
    }
   ],
   "source": [
    "pred = model.predict(X_test[:1000])\n",
    "\n",
    "rounded_pred = []\n",
    "for pair in pred:\n",
    "  rounded_pred.append([round(pair[0]), round(pair[1])])\n",
    "\n",
    "\n",
    "prec = precision_score(rounded_pred, y_test_cat[:1000], average=\"macro\")\n",
    "rec = recall_score(rounded_pred, y_test_cat[:1000], average=\"macro\")\n",
    "acc = accuracy_score(rounded_pred, y_test_cat[:1000])\n",
    "\n",
    "print(f\"Precision: {prec}\")\n",
    "print(f\"Recall: {rec}\")\n",
    "print(f\"Accuracy: {acc}\")"
   ]
  },
  {
   "cell_type": "markdown",
   "id": "beautiful-convertible",
   "metadata": {},
   "source": [
    "штош"
   ]
  },
  {
   "cell_type": "code",
   "execution_count": 54,
   "id": "superb-subscriber",
   "metadata": {},
   "outputs": [],
   "source": [
    "ft = gensim.models.FastText(corpus, size=300, iter=20)"
   ]
  },
  {
   "cell_type": "code",
   "execution_count": 55,
   "id": "variable-twins",
   "metadata": {},
   "outputs": [
    {
     "name": "stderr",
     "output_type": "stream",
     "text": [
      "<ipython-input-55-f5367c4f4ae0>:1: DeprecationWarning: Call to deprecated `__getitem__` (Method will be removed in 4.0.0, use self.wv.__getitem__() instead).\n",
      "  ft_weights = np.array([ft[id2word[id_]] for id_ in id2word])\n"
     ]
    },
    {
     "name": "stdout",
     "output_type": "stream",
     "text": [
      "Epoch 1/2\n",
      "1418/1418 [==============================] - 466s 328ms/step - loss: 0.7081 - precision: 0.5018 - recall: 0.5018 - accuracy: 0.0000e+00 - val_loss: 0.6932 - val_precision: 0.4914 - val_recall: 0.4914 - val_accuracy: 0.0000e+00\n",
      "Epoch 2/2\n",
      "1418/1418 [==============================] - 466s 328ms/step - loss: 0.7066 - precision: 0.5012 - recall: 0.5012 - accuracy: 0.0000e+00 - val_loss: 0.7327 - val_precision: 0.5086 - val_recall: 0.5086 - val_accuracy: 0.0000e+00\n"
     ]
    },
    {
     "data": {
      "text/plain": [
       "<tensorflow.python.keras.callbacks.History at 0x7f7290ac4400>"
      ]
     },
     "execution_count": 55,
     "metadata": {},
     "output_type": "execute_result"
    }
   ],
   "source": [
    "ft_weights = np.array([ft[id2word[id_]] for id_ in id2word])\n",
    "\n",
    "word_in = Input(shape=(sent_max_len))\n",
    "emb_word = Embedding(input_dim=len(word2id), output_dim=300, trainable=False, weights=[ft_weights])(word_in)\n",
    "lstm = Bidirectional(LSTM(units=128, recurrent_dropout=0.15))(emb_word)\n",
    "out = Dense(2, activation=\"softmax\")(lstm)\n",
    "\n",
    "model = Model(inputs=word_in, outputs=out)\n",
    "\n",
    "optimizer = optimizers.Adam(learning_rate=0.01)\n",
    "model.compile(optimizer=optimizer, loss=\"binary_crossentropy\", metrics=metrics)\n",
    "\n",
    "model.fit(X_train, y_train_cat, validation_data=(X_test, y_test_cat), batch_size=128, epochs=2, verbose=1)"
   ]
  },
  {
   "cell_type": "markdown",
   "id": "generous-catering",
   "metadata": {},
   "source": [
    "Увеличение числа эпох фасттекста не помогло :("
   ]
  },
  {
   "cell_type": "markdown",
   "id": "adaptive-poison",
   "metadata": {},
   "source": [
    "# Два входа"
   ]
  },
  {
   "cell_type": "code",
   "execution_count": 18,
   "id": "operational-scott",
   "metadata": {},
   "outputs": [
    {
     "name": "stdout",
     "output_type": "stream",
     "text": [
      "{'a', 'ы', 'v', 'x', 'а', 'б', 'm', 'z', 'y', 'х', 'u', 'b', 'ү', 'т', 'и', 'ж', 'е', 'в', 'й', 'ю', 'g', 'c', '1', 'f', 'у', 'r', 'п', 'є', '6', 'с', 'к', 'ч', 'ë', 'қ', '9', '8', 'ф', 'ё', 'ь', 'ї', 'd', 'ғ', 'q', 'ў', 'д', '4', 'ш', 'l', '7', 'н', 'я', 'ц', 'о', 'э', 'w', 'j', 't', 'o', 'з', 'ө', '0', 'і', 'e', 'г', 's', 'n', '2', 'м', 'л', 'ʘ', '_', 'p', 'ң', 'i', 'щ', 'р', '3', 'ъ', 'k', 'h', '5'}\n"
     ]
    }
   ],
   "source": [
    "chars = set([letter for word in filtered_vocab for letter in word])\n",
    "n_chars = len(chars)\n",
    "print(chars)"
   ]
  },
  {
   "cell_type": "code",
   "execution_count": 19,
   "id": "immediate-thailand",
   "metadata": {},
   "outputs": [],
   "source": [
    "char2id = {c: i + 2 for i, c in enumerate(chars)}\n",
    "char2id[\"pad\"] = 0\n",
    "char2id[\"unk\"] = 1\n",
    "\n",
    "id2char = {i: char for char, i in char2id.items()}"
   ]
  },
  {
   "cell_type": "code",
   "execution_count": 20,
   "id": "qualified-eugene",
   "metadata": {},
   "outputs": [
    {
     "name": "stdout",
     "output_type": "stream",
     "text": [
      "максимальная длина слова: 33\n"
     ]
    }
   ],
   "source": [
    "char_max_len = max(len(x) for x in filtered_vocab)\n",
    "print(\"максимальная длина слова:\", char_max_len)"
   ]
  },
  {
   "cell_type": "code",
   "execution_count": 21,
   "id": "hollow-player",
   "metadata": {},
   "outputs": [],
   "source": [
    "X_train, X_test, _, _ = train_test_split(texts, target, test_size=.2, random_state=1337)\n",
    "\n",
    "X_train, X_test = pad_sequences(X_train_ids, maxlen=sent_max_len, padding='post'), pad_sequences(X_test_ids, maxlen=sent_max_len, padding='post')"
   ]
  },
  {
   "cell_type": "code",
   "execution_count": 37,
   "id": "advance-rebecca",
   "metadata": {},
   "outputs": [],
   "source": [
    "def make_X_char(sentences):\n",
    "  X_char = []\n",
    "  for sentence in sentences:\n",
    "      sent_seq = []\n",
    "      for i in range(sent_max_len):\n",
    "          word_seq = []\n",
    "          for j in range(char_max_len):\n",
    "              try:\n",
    "                  word_seq.append(char2id[sentence[i][j].lower()])\n",
    "              except:\n",
    "                  word_seq.append(char2id[\"pad\"])\n",
    "          sent_seq.append(word_seq)\n",
    "      X_char.append(np.array(sent_seq))\n",
    "  return np.array(X_char)\n",
    "\n",
    "\n",
    "# срез, потому что полностью очень долго\n",
    "X_char_train, X_char_test = make_X_char(X_train), make_X_char(X_test)"
   ]
  },
  {
   "cell_type": "code",
   "execution_count": 40,
   "id": "killing-treatment",
   "metadata": {},
   "outputs": [],
   "source": [
    "# возьмем готовые эмбеддинги \n",
    "word_in = Input(shape=(sent_max_len))\n",
    "emb_word = Embedding(input_dim=len(word2id), output_dim=300, trainable=False, weights=[weights])(word_in)\n",
    "\n",
    "char_in = Input(shape=(sent_max_len, char_max_len))\n",
    "emb_char = TimeDistributed(Embedding(input_dim=len(char2id), output_dim=10, input_length=char_max_len))(char_in)\n",
    "char_enc = TimeDistributed(Conv1D(filters=12, kernel_size=3))(emb_char)\n",
    "char_flat = TimeDistributed(Flatten())(char_enc)\n",
    "\n",
    "x = concatenate([emb_word, char_flat])\n",
    "main_lstm = Bidirectional(LSTM(units=128,\n",
    "                               recurrent_dropout=0.15)\n",
    "                         )(x)\n",
    "out = Dense(2, activation=\"softmax\")(main_lstm)\n",
    "\n",
    "model = Model(inputs=[char_in, word_in], outputs=out)\n",
    "\n",
    "\n",
    "optimizer = optimizers.Adam(learning_rate=0.001)\n",
    "model.compile(optimizer=optimizer, loss=\"categorical_crossentropy\", metrics=metrics)"
   ]
  },
  {
   "cell_type": "code",
   "execution_count": 41,
   "id": "specific-bubble",
   "metadata": {},
   "outputs": [
    {
     "name": "stdout",
     "output_type": "stream",
     "text": [
      "Model: \"functional_5\"\n",
      "__________________________________________________________________________________________________\n",
      "Layer (type)                    Output Shape         Param #     Connected to                     \n",
      "==================================================================================================\n",
      "input_7 (InputLayer)            [(None, 173, 33)]    0                                            \n",
      "__________________________________________________________________________________________________\n",
      "time_distributed_6 (TimeDistrib (None, 173, 33, 10)  830         input_7[0][0]                    \n",
      "__________________________________________________________________________________________________\n",
      "input_6 (InputLayer)            [(None, 173)]        0                                            \n",
      "__________________________________________________________________________________________________\n",
      "time_distributed_7 (TimeDistrib (None, 173, 31, 12)  372         time_distributed_6[0][0]         \n",
      "__________________________________________________________________________________________________\n",
      "embedding_4 (Embedding)         (None, 173, 300)     7838400     input_6[0][0]                    \n",
      "__________________________________________________________________________________________________\n",
      "time_distributed_8 (TimeDistrib (None, 173, 372)     0           time_distributed_7[0][0]         \n",
      "__________________________________________________________________________________________________\n",
      "concatenate_2 (Concatenate)     (None, 173, 672)     0           embedding_4[0][0]                \n",
      "                                                                 time_distributed_8[0][0]         \n",
      "__________________________________________________________________________________________________\n",
      "bidirectional_2 (Bidirectional) (None, 256)          820224      concatenate_2[0][0]              \n",
      "__________________________________________________________________________________________________\n",
      "dense_2 (Dense)                 (None, 2)            514         bidirectional_2[0][0]            \n",
      "==================================================================================================\n",
      "Total params: 8,660,340\n",
      "Trainable params: 821,940\n",
      "Non-trainable params: 7,838,400\n",
      "__________________________________________________________________________________________________\n"
     ]
    }
   ],
   "source": [
    "model.summary()"
   ]
  },
  {
   "cell_type": "code",
   "execution_count": null,
   "id": "framed-fraud",
   "metadata": {},
   "outputs": [],
   "source": [
    "X_char_train"
   ]
  },
  {
   "cell_type": "code",
   "execution_count": 38,
   "id": "incident-horse",
   "metadata": {},
   "outputs": [
    {
     "data": {
      "text/plain": [
       "((181467, 173, 33), (181467, 173), (181467, 2))"
      ]
     },
     "execution_count": 38,
     "metadata": {},
     "output_type": "execute_result"
    }
   ],
   "source": [
    "X_char_train.shape, X_train.shape, y_train_cat.shape"
   ]
  },
  {
   "cell_type": "code",
   "execution_count": 42,
   "id": "handed-vacuum",
   "metadata": {},
   "outputs": [
    {
     "name": "stdout",
     "output_type": "stream",
     "text": [
      "1418/1418 [==============================] - 940s 663ms/step - loss: 0.6355 - precision: 0.6167 - recall: 0.6167 - accuracy: 0.0000e+00 - val_loss: 0.6176 - val_precision: 0.6375 - val_recall: 0.6375 - val_accuracy: 0.0000e+00\n"
     ]
    },
    {
     "data": {
      "text/plain": [
       "<tensorflow.python.keras.callbacks.History at 0x7fbc6471f130>"
      ]
     },
     "execution_count": 42,
     "metadata": {},
     "output_type": "execute_result"
    }
   ],
   "source": [
    "model.fit([X_char_train, X_train], y_train_cat, validation_data=([X_char_test, X_test], y_test_cat), batch_size=128, epochs=1, verbose=1)"
   ]
  },
  {
   "cell_type": "code",
   "execution_count": 45,
   "id": "portuguese-speaking",
   "metadata": {},
   "outputs": [
    {
     "name": "stdout",
     "output_type": "stream",
     "text": [
      "Precision: 0.6394502312036993\n",
      "Recall: 0.6509465006321551\n",
      "Accuracy: 0.64\n"
     ]
    }
   ],
   "source": [
    "from sklearn.metrics import precision_score, recall_score, accuracy_score\n",
    "\n",
    "pred = model.predict([X_char_test[:1000], X_test[:1000]])\n",
    "\n",
    "rounded_pred = []\n",
    "for pair in pred:\n",
    "  rounded_pred.append([round(pair[0]), round(pair[1])])\n",
    "\n",
    "\n",
    "prec = precision_score(rounded_pred, y_test_cat[:1000], average=\"macro\")\n",
    "rec = recall_score(rounded_pred, y_test_cat[:1000], average=\"macro\")\n",
    "acc = accuracy_score(rounded_pred, y_test_cat[:1000])\n",
    "\n",
    "print(f\"Precision: {prec}\")\n",
    "print(f\"Recall: {rec}\")\n",
    "print(f\"Accuracy: {acc}\")"
   ]
  },
  {
   "cell_type": "code",
   "execution_count": 46,
   "id": "cathedral-velvet",
   "metadata": {},
   "outputs": [
    {
     "name": "stdout",
     "output_type": "stream",
     "text": [
      "1418/1418 [==============================] - 937s 660ms/step - loss: 0.6109 - precision: 0.6475 - recall: 0.6475 - accuracy: 0.0000e+00 - val_loss: 0.6050 - val_precision: 0.6540 - val_recall: 0.6540 - val_accuracy: 0.0000e+00\n"
     ]
    },
    {
     "data": {
      "text/plain": [
       "<tensorflow.python.keras.callbacks.History at 0x7fbc69067580>"
      ]
     },
     "execution_count": 46,
     "metadata": {},
     "output_type": "execute_result"
    }
   ],
   "source": [
    "model.fit([X_char_train, X_train], y_train_cat, validation_data=([X_char_test, X_test], y_test_cat), batch_size=128, epochs=1, verbose=1)"
   ]
  },
  {
   "cell_type": "code",
   "execution_count": 47,
   "id": "organic-ancient",
   "metadata": {},
   "outputs": [
    {
     "name": "stdout",
     "output_type": "stream",
     "text": [
      "Precision: 0.6472903566457063\n",
      "Recall: 0.6686637717803551\n",
      "Accuracy: 0.648\n"
     ]
    }
   ],
   "source": [
    "from sklearn.metrics import precision_score, recall_score, accuracy_score\n",
    "\n",
    "pred = model.predict([X_char_test[:1000], X_test[:1000]])\n",
    "\n",
    "rounded_pred = []\n",
    "for pair in pred:\n",
    "  rounded_pred.append([round(pair[0]), round(pair[1])])\n",
    "\n",
    "\n",
    "prec = precision_score(rounded_pred, y_test_cat[:1000], average=\"macro\")\n",
    "rec = recall_score(rounded_pred, y_test_cat[:1000], average=\"macro\")\n",
    "acc = accuracy_score(rounded_pred, y_test_cat[:1000])\n",
    "\n",
    "print(f\"Precision: {prec}\")\n",
    "print(f\"Recall: {rec}\")\n",
    "print(f\"Accuracy: {acc}\")"
   ]
  },
  {
   "cell_type": "markdown",
   "id": "bottom-arbitration",
   "metadata": {},
   "source": [
    "Стало хуже, чем просто готовые эмбеддинги"
   ]
  },
  {
   "cell_type": "code",
   "execution_count": null,
   "id": "convenient-throw",
   "metadata": {},
   "outputs": [],
   "source": []
  }
 ],
 "metadata": {
  "colab": {
   "collapsed_sections": [],
   "name": "hw6_twits.ipynb",
   "provenance": [],
   "toc_visible": true
  },
  "kernelspec": {
   "display_name": "Python 3",
   "language": "python",
   "name": "python3"
  },
  "language_info": {
   "codemirror_mode": {
    "name": "ipython",
    "version": 3
   },
   "file_extension": ".py",
   "mimetype": "text/x-python",
   "name": "python",
   "nbconvert_exporter": "python",
   "pygments_lexer": "ipython3",
   "version": "3.8.6"
  }
 },
 "nbformat": 4,
 "nbformat_minor": 5
}
