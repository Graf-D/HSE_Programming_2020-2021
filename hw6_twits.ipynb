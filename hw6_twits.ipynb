{
 "cells": [
  {
   "cell_type": "code",
   "execution_count": null,
   "id": "latin-sigma",
   "metadata": {
    "colab": {
     "base_uri": "https://localhost:8080/"
    },
    "id": "occupied-enlargement",
    "outputId": "1b9b36c9-0482-48e5-a3af-d3e5fc5ae981"
   },
   "outputs": [],
   "source": [
    "!wget https://www.dropbox.com/s/r6u59ljhhjdg6j0/negative.csv\n",
    "!wget https://www.dropbox.com/s/fnpq3z4bcnoktiv/positive.csv"
   ]
  },
  {
   "cell_type": "code",
   "execution_count": 1,
   "id": "legitimate-cannon",
   "metadata": {
    "id": "extra-seattle"
   },
   "outputs": [],
   "source": [
    "import pandas as pd\n",
    "\n",
    "headers = [\"id\", \"date\", \"name\", \"text\", \"type\", \"rep\", \"fav\", \"stcount\", \"fol\", \"frien\", \"listcount\"]\n",
    "neg_df = pd.read_csv(\"negative.csv\", sep=\";\", names=headers, index_col=False)\n",
    "pos_df = pd.read_csv(\"positive.csv\", sep=\";\", names=headers, index_col=False)"
   ]
  },
  {
   "cell_type": "code",
   "execution_count": 2,
   "id": "vertical-kennedy",
   "metadata": {
    "colab": {
     "base_uri": "https://localhost:8080/",
     "height": 212
    },
    "id": "charged-amplifier",
    "outputId": "24d9df0a-05cf-4b4c-dbf0-101a2b24e124"
   },
   "outputs": [
    {
     "data": {
      "text/html": [
       "<div>\n",
       "<style scoped>\n",
       "    .dataframe tbody tr th:only-of-type {\n",
       "        vertical-align: middle;\n",
       "    }\n",
       "\n",
       "    .dataframe tbody tr th {\n",
       "        vertical-align: top;\n",
       "    }\n",
       "\n",
       "    .dataframe thead th {\n",
       "        text-align: right;\n",
       "    }\n",
       "</style>\n",
       "<table border=\"1\" class=\"dataframe\">\n",
       "  <thead>\n",
       "    <tr style=\"text-align: right;\">\n",
       "      <th></th>\n",
       "      <th>id</th>\n",
       "      <th>date</th>\n",
       "      <th>name</th>\n",
       "      <th>text</th>\n",
       "      <th>type</th>\n",
       "      <th>rep</th>\n",
       "      <th>fav</th>\n",
       "      <th>stcount</th>\n",
       "      <th>fol</th>\n",
       "      <th>frien</th>\n",
       "      <th>listcount</th>\n",
       "    </tr>\n",
       "  </thead>\n",
       "  <tbody>\n",
       "    <tr>\n",
       "      <th>0</th>\n",
       "      <td>408906762813579264</td>\n",
       "      <td>1386325944</td>\n",
       "      <td>dugarchikbellko</td>\n",
       "      <td>на работе был полный пиддес :| и так каждое за...</td>\n",
       "      <td>-1</td>\n",
       "      <td>0</td>\n",
       "      <td>0</td>\n",
       "      <td>0</td>\n",
       "      <td>8064</td>\n",
       "      <td>111</td>\n",
       "      <td>94</td>\n",
       "    </tr>\n",
       "    <tr>\n",
       "      <th>1</th>\n",
       "      <td>408906818262687744</td>\n",
       "      <td>1386325957</td>\n",
       "      <td>nugemycejela</td>\n",
       "      <td>Коллеги сидят рубятся в Urban terror, а я из-з...</td>\n",
       "      <td>-1</td>\n",
       "      <td>0</td>\n",
       "      <td>0</td>\n",
       "      <td>0</td>\n",
       "      <td>26</td>\n",
       "      <td>42</td>\n",
       "      <td>39</td>\n",
       "    </tr>\n",
       "    <tr>\n",
       "      <th>2</th>\n",
       "      <td>408906858515398656</td>\n",
       "      <td>1386325966</td>\n",
       "      <td>4post21</td>\n",
       "      <td>@elina_4post как говорят обещаного три года жд...</td>\n",
       "      <td>-1</td>\n",
       "      <td>0</td>\n",
       "      <td>0</td>\n",
       "      <td>0</td>\n",
       "      <td>718</td>\n",
       "      <td>49</td>\n",
       "      <td>249</td>\n",
       "    </tr>\n",
       "    <tr>\n",
       "      <th>3</th>\n",
       "      <td>408906914437685248</td>\n",
       "      <td>1386325980</td>\n",
       "      <td>Poliwake</td>\n",
       "      <td>Желаю хорошего полёта и удачной посадки,я буду...</td>\n",
       "      <td>-1</td>\n",
       "      <td>0</td>\n",
       "      <td>0</td>\n",
       "      <td>0</td>\n",
       "      <td>10628</td>\n",
       "      <td>207</td>\n",
       "      <td>200</td>\n",
       "    </tr>\n",
       "    <tr>\n",
       "      <th>4</th>\n",
       "      <td>408906914723295232</td>\n",
       "      <td>1386325980</td>\n",
       "      <td>capyvixowe</td>\n",
       "      <td>Обновил за каким-то лешим surf, теперь не рабо...</td>\n",
       "      <td>-1</td>\n",
       "      <td>0</td>\n",
       "      <td>0</td>\n",
       "      <td>0</td>\n",
       "      <td>35</td>\n",
       "      <td>17</td>\n",
       "      <td>34</td>\n",
       "    </tr>\n",
       "  </tbody>\n",
       "</table>\n",
       "</div>"
      ],
      "text/plain": [
       "                   id        date             name  \\\n",
       "0  408906762813579264  1386325944  dugarchikbellko   \n",
       "1  408906818262687744  1386325957     nugemycejela   \n",
       "2  408906858515398656  1386325966          4post21   \n",
       "3  408906914437685248  1386325980         Poliwake   \n",
       "4  408906914723295232  1386325980       capyvixowe   \n",
       "\n",
       "                                                text  type  rep  fav  stcount  \\\n",
       "0  на работе был полный пиддес :| и так каждое за...    -1    0    0        0   \n",
       "1  Коллеги сидят рубятся в Urban terror, а я из-з...    -1    0    0        0   \n",
       "2  @elina_4post как говорят обещаного три года жд...    -1    0    0        0   \n",
       "3  Желаю хорошего полёта и удачной посадки,я буду...    -1    0    0        0   \n",
       "4  Обновил за каким-то лешим surf, теперь не рабо...    -1    0    0        0   \n",
       "\n",
       "     fol  frien  listcount  \n",
       "0   8064    111         94  \n",
       "1     26     42         39  \n",
       "2    718     49        249  \n",
       "3  10628    207        200  \n",
       "4     35     17         34  "
      ]
     },
     "execution_count": 2,
     "metadata": {},
     "output_type": "execute_result"
    }
   ],
   "source": [
    "neg_df.head()"
   ]
  },
  {
   "cell_type": "code",
   "execution_count": 3,
   "id": "animal-terrorist",
   "metadata": {
    "colab": {
     "base_uri": "https://localhost:8080/",
     "height": 195
    },
    "id": "automatic-pregnancy",
    "outputId": "67ba59f4-6867-4d6a-c4fb-1006fdc00397"
   },
   "outputs": [
    {
     "data": {
      "text/html": [
       "<div>\n",
       "<style scoped>\n",
       "    .dataframe tbody tr th:only-of-type {\n",
       "        vertical-align: middle;\n",
       "    }\n",
       "\n",
       "    .dataframe tbody tr th {\n",
       "        vertical-align: top;\n",
       "    }\n",
       "\n",
       "    .dataframe thead th {\n",
       "        text-align: right;\n",
       "    }\n",
       "</style>\n",
       "<table border=\"1\" class=\"dataframe\">\n",
       "  <thead>\n",
       "    <tr style=\"text-align: right;\">\n",
       "      <th></th>\n",
       "      <th>id</th>\n",
       "      <th>date</th>\n",
       "      <th>name</th>\n",
       "      <th>text</th>\n",
       "      <th>type</th>\n",
       "      <th>rep</th>\n",
       "      <th>fav</th>\n",
       "      <th>stcount</th>\n",
       "      <th>fol</th>\n",
       "      <th>frien</th>\n",
       "      <th>listcount</th>\n",
       "    </tr>\n",
       "  </thead>\n",
       "  <tbody>\n",
       "    <tr>\n",
       "      <th>0</th>\n",
       "      <td>408906692374446080</td>\n",
       "      <td>1386325927</td>\n",
       "      <td>pleease_shut_up</td>\n",
       "      <td>@first_timee хоть я и школота, но поверь, у на...</td>\n",
       "      <td>1</td>\n",
       "      <td>0</td>\n",
       "      <td>0</td>\n",
       "      <td>0</td>\n",
       "      <td>7569</td>\n",
       "      <td>62</td>\n",
       "      <td>61</td>\n",
       "    </tr>\n",
       "    <tr>\n",
       "      <th>1</th>\n",
       "      <td>408906692693221377</td>\n",
       "      <td>1386325927</td>\n",
       "      <td>alinakirpicheva</td>\n",
       "      <td>Да, все-таки он немного похож на него. Но мой ...</td>\n",
       "      <td>1</td>\n",
       "      <td>0</td>\n",
       "      <td>0</td>\n",
       "      <td>0</td>\n",
       "      <td>11825</td>\n",
       "      <td>59</td>\n",
       "      <td>31</td>\n",
       "    </tr>\n",
       "    <tr>\n",
       "      <th>2</th>\n",
       "      <td>408906695083954177</td>\n",
       "      <td>1386325927</td>\n",
       "      <td>EvgeshaRe</td>\n",
       "      <td>RT @KatiaCheh: Ну ты идиотка) я испугалась за ...</td>\n",
       "      <td>1</td>\n",
       "      <td>0</td>\n",
       "      <td>1</td>\n",
       "      <td>0</td>\n",
       "      <td>1273</td>\n",
       "      <td>26</td>\n",
       "      <td>27</td>\n",
       "    </tr>\n",
       "    <tr>\n",
       "      <th>3</th>\n",
       "      <td>408906695356973056</td>\n",
       "      <td>1386325927</td>\n",
       "      <td>ikonnikova_21</td>\n",
       "      <td>RT @digger2912: \"Кто то в углу сидит и погибае...</td>\n",
       "      <td>1</td>\n",
       "      <td>0</td>\n",
       "      <td>1</td>\n",
       "      <td>0</td>\n",
       "      <td>1549</td>\n",
       "      <td>19</td>\n",
       "      <td>17</td>\n",
       "    </tr>\n",
       "    <tr>\n",
       "      <th>4</th>\n",
       "      <td>408906761416867842</td>\n",
       "      <td>1386325943</td>\n",
       "      <td>JumpyAlex</td>\n",
       "      <td>@irina_dyshkant Вот что значит страшилка :D\\nН...</td>\n",
       "      <td>1</td>\n",
       "      <td>0</td>\n",
       "      <td>0</td>\n",
       "      <td>0</td>\n",
       "      <td>597</td>\n",
       "      <td>16</td>\n",
       "      <td>23</td>\n",
       "    </tr>\n",
       "  </tbody>\n",
       "</table>\n",
       "</div>"
      ],
      "text/plain": [
       "                   id        date             name  \\\n",
       "0  408906692374446080  1386325927  pleease_shut_up   \n",
       "1  408906692693221377  1386325927  alinakirpicheva   \n",
       "2  408906695083954177  1386325927        EvgeshaRe   \n",
       "3  408906695356973056  1386325927    ikonnikova_21   \n",
       "4  408906761416867842  1386325943        JumpyAlex   \n",
       "\n",
       "                                                text  type  rep  fav  stcount  \\\n",
       "0  @first_timee хоть я и школота, но поверь, у на...     1    0    0        0   \n",
       "1  Да, все-таки он немного похож на него. Но мой ...     1    0    0        0   \n",
       "2  RT @KatiaCheh: Ну ты идиотка) я испугалась за ...     1    0    1        0   \n",
       "3  RT @digger2912: \"Кто то в углу сидит и погибае...     1    0    1        0   \n",
       "4  @irina_dyshkant Вот что значит страшилка :D\\nН...     1    0    0        0   \n",
       "\n",
       "     fol  frien  listcount  \n",
       "0   7569     62         61  \n",
       "1  11825     59         31  \n",
       "2   1273     26         27  \n",
       "3   1549     19         17  \n",
       "4    597     16         23  "
      ]
     },
     "execution_count": 3,
     "metadata": {},
     "output_type": "execute_result"
    }
   ],
   "source": [
    "pos_df.head()"
   ]
  },
  {
   "cell_type": "code",
   "execution_count": 4,
   "id": "active-present",
   "metadata": {
    "id": "earlier-jewelry"
   },
   "outputs": [],
   "source": [
    "import re\n",
    "\n",
    "def rm_punct(text):\n",
    "    res = re.sub(r\"[^\\w\\s]\", \" \", text.lower())\n",
    "    res = re.sub(r\"\\s+\", \" \", res)\n",
    "    return res.strip()"
   ]
  },
  {
   "cell_type": "code",
   "execution_count": 5,
   "id": "touched-divide",
   "metadata": {
    "id": "demonstrated-collar"
   },
   "outputs": [],
   "source": [
    "neg_df[\"text_rm_punct\"] = neg_df[\"text\"].apply(rm_punct)\n",
    "pos_df[\"text_rm_punct\"] = pos_df[\"text\"].apply(rm_punct)"
   ]
  },
  {
   "cell_type": "code",
   "execution_count": 6,
   "id": "adverse-ensemble",
   "metadata": {
    "id": "marine-injury"
   },
   "outputs": [],
   "source": [
    "neg_texts = neg_df.text_rm_punct.values\n",
    "pos_texts = pos_df.text_rm_punct.values"
   ]
  },
  {
   "cell_type": "code",
   "execution_count": 7,
   "id": "sophisticated-dover",
   "metadata": {
    "colab": {
     "base_uri": "https://localhost:8080/"
    },
    "id": "geological-component",
    "outputId": "ee07c23d-9550-4d33-9244-5954bbdf2f77"
   },
   "outputs": [
    {
     "data": {
      "text/plain": [
       "array(['first_timee хоть я и школота но поверь у нас то же самое d общество профилирующий предмет типа',\n",
       "       'да все таки он немного похож на него но мой мальчик все равно лучше d',\n",
       "       'rt katiacheh ну ты идиотка я испугалась за тебя', ...,\n",
       "       'что происходит со мной когда в эфире proactivefm звучит моя любимая песня dctalk music http t co 65kgffd5oo',\n",
       "       'любимая я подарю тебе эту звезду имя какой звезды переводится подмышка',\n",
       "       'ma_che_rie посмотри непытайтесьпокинутьомск сегодня в вавилоне в 18 20 я там тоже есть'],\n",
       "      dtype=object)"
      ]
     },
     "execution_count": 7,
     "metadata": {},
     "output_type": "execute_result"
    }
   ],
   "source": [
    "pos_texts"
   ]
  },
  {
   "cell_type": "code",
   "execution_count": 8,
   "id": "institutional-register",
   "metadata": {
    "id": "married-client"
   },
   "outputs": [],
   "source": [
    "from tensorflow.keras.models import Sequential, Model\n",
    "from tensorflow.keras.layers import Dense, Activation, Dropout, LSTM, Bidirectional, TimeDistributed, InputLayer\n",
    "from tensorflow.keras.layers import Embedding, Conv1D, Input, concatenate, SpatialDropout1D, Flatten\n",
    "from tensorflow.keras.preprocessing.sequence import pad_sequences\n",
    "from tensorflow.keras.utils import to_categorical\n",
    "from tensorflow.keras import optimizers\n",
    "import nltk\n",
    "import numpy as np\n",
    "from sklearn.model_selection import train_test_split\n",
    "import matplotlib.pyplot as plt\n",
    "from collections import Counter"
   ]
  },
  {
   "cell_type": "code",
   "execution_count": 9,
   "id": "owned-donor",
   "metadata": {
    "id": "nonprofit-webcam"
   },
   "outputs": [],
   "source": [
    "import numpy as np\n",
    "\n",
    "texts = np.concatenate([pos_texts, neg_texts])\n",
    "target = np.concatenate([pos_df[\"type\"].values, neg_df[\"type\"].values])\n",
    "\n",
    "X_train, X_test, y_train, y_test = train_test_split(texts, target, test_size=.2, random_state=1337)"
   ]
  },
  {
   "cell_type": "code",
   "execution_count": 10,
   "id": "crude-marathon",
   "metadata": {
    "colab": {
     "base_uri": "https://localhost:8080/"
    },
    "id": "destroyed-championship",
    "outputId": "9cab0e92-29c4-4c0e-90bf-48b96c6af771"
   },
   "outputs": [
    {
     "data": {
      "text/plain": [
       "array(['lentaruofficial ну тут всё просто либо либо',\n",
       "       'мама когда же ты уже научишься себя беречь',\n",
       "       'rt yprtcrazy_mofo baisa04 ты мой 469 читатель добра тебе http t co lkm5nwykvm',\n",
       "       ...,\n",
       "       'q ты самая красивая девушка из 10 классов хотя и во всей школе a http t co rkdeczokvj',\n",
       "       'kks35he2013 охренеть а я только анг и историю и то додел надо',\n",
       "       'satstranger поживём увидим чё они там предложат но мне было бы интересно полапать такой девайс'],\n",
       "      dtype=object)"
      ]
     },
     "execution_count": 10,
     "metadata": {},
     "output_type": "execute_result"
    }
   ],
   "source": [
    "X_test"
   ]
  },
  {
   "cell_type": "markdown",
   "id": "owned-workshop",
   "metadata": {
    "id": "acquired-sharp"
   },
   "source": [
    "# Архитектура 1"
   ]
  },
  {
   "cell_type": "markdown",
   "id": "assumed-jacob",
   "metadata": {
    "id": "narrative-smooth"
   },
   "source": [
    "модель берет слова, пропускает их через Embedding слой. По эмбеддингам проходит biLSTM, на выходе линейный слой и выходной слой.\n",
    "\n",
    "Embedding слой обучается внутри модели -- 1 балл\n",
    "\n",
    "подгружаются обученные эмбеддинги для русского языка ** -- 1 балл\n",
    "\n",
    "fasttext эмбеддинги обучаются на всем корпусе с нуля *** -- 2 балла"
   ]
  },
  {
   "cell_type": "code",
   "execution_count": 11,
   "id": "thermal-browser",
   "metadata": {
    "id": "nearby-protest"
   },
   "outputs": [],
   "source": [
    "vocab = Counter()\n",
    "for sent in X_train:\n",
    "    sent = [word.lower() for word in sent.split()]\n",
    "    vocab.update(sent)"
   ]
  },
  {
   "cell_type": "code",
   "execution_count": 12,
   "id": "gothic-update",
   "metadata": {
    "id": "delayed-girlfriend"
   },
   "outputs": [],
   "source": [
    "filtered_vocab = {word for word in vocab if vocab[word] > 5}\n",
    "\n",
    "word2id = {word: i + 2 for i, word in enumerate(filtered_vocab)}\n",
    "word2id['pad'] = 0\n",
    "word2id['unk'] = 1  \n",
    "\n",
    "id2word = {i: word for word, i in word2id.items()}"
   ]
  },
  {
   "cell_type": "code",
   "execution_count": 13,
   "id": "czech-powder",
   "metadata": {
    "id": "loaded-reynolds"
   },
   "outputs": [],
   "source": [
    "def data2ints(data, smth2id):\n",
    "    int_data = []\n",
    "    for seq in data:\n",
    "        int_seq = []\n",
    "        for i in seq:\n",
    "            int_seq.append(smth2id.get(i.lower(), 1))\n",
    "  \n",
    "        int_data.append(int_seq)\n",
    "    return int_data"
   ]
  },
  {
   "cell_type": "code",
   "execution_count": 14,
   "id": "middle-potential",
   "metadata": {
    "id": "reverse-seven"
   },
   "outputs": [],
   "source": [
    "X_train_ids, X_test_ids = data2ints(X_train, word2id), data2ints(X_test, word2id)"
   ]
  },
  {
   "cell_type": "code",
   "execution_count": 15,
   "id": "consistent-twins",
   "metadata": {
    "colab": {
     "base_uri": "https://localhost:8080/"
    },
    "id": "distant-cookie",
    "outputId": "8d5f9faa-9da8-45e4-a797-0d8dcb241406"
   },
   "outputs": [
    {
     "data": {
      "text/plain": [
       "173"
      ]
     },
     "execution_count": 15,
     "metadata": {},
     "output_type": "execute_result"
    }
   ],
   "source": [
    "sent_max_len = max(len(x) for x in X_train_ids)\n",
    "\n",
    "sent_max_len"
   ]
  },
  {
   "cell_type": "code",
   "execution_count": 16,
   "id": "important-hughes",
   "metadata": {
    "id": "enhanced-lawsuit"
   },
   "outputs": [],
   "source": [
    "X_train, X_test = pad_sequences(X_train_ids, maxlen=sent_max_len, padding='post'), pad_sequences(X_test_ids, maxlen=sent_max_len, padding='post')"
   ]
  },
  {
   "cell_type": "code",
   "execution_count": 17,
   "id": "subtle-yesterday",
   "metadata": {
    "id": "hbQKHQuP6di3"
   },
   "outputs": [],
   "source": [
    "y_test_replaced = [elem if elem == 1 else 0 for elem in y_test]\r\n",
    "y_train_replaced = [elem if elem == 1 else 0 for elem in y_train]\r\n",
    "\r\n",
    "y_train_cat = to_categorical(y_train_replaced, num_classes=2)\r\n",
    "y_test_cat = to_categorical(y_test_replaced, num_classes=2)"
   ]
  },
  {
   "cell_type": "code",
   "execution_count": 18,
   "id": "still-measure",
   "metadata": {
    "colab": {
     "base_uri": "https://localhost:8080/"
    },
    "id": "perceived-springer",
    "outputId": "51063883-f290-488f-b4ce-c2f7e6c06a96"
   },
   "outputs": [
    {
     "data": {
      "text/plain": [
       "((181467, 173), (181467, 2), (45367, 173), (45367, 2))"
      ]
     },
     "execution_count": 18,
     "metadata": {},
     "output_type": "execute_result"
    }
   ],
   "source": [
    "X_train.shape, y_train_cat.shape, X_test.shape, y_test_cat.shape"
   ]
  },
  {
   "cell_type": "code",
   "execution_count": 19,
   "id": "hearing-approval",
   "metadata": {
    "id": "racial-distributor"
   },
   "outputs": [],
   "source": [
    "import tensorflow as tf\n",
    "\n",
    "metrics = [tf.keras.metrics.Precision(), tf.keras.metrics.Recall(), tf.keras.metrics.Accuracy()]"
   ]
  },
  {
   "cell_type": "code",
   "execution_count": null,
   "id": "chief-longer",
   "metadata": {
    "id": "accredited-opportunity"
   },
   "outputs": [],
   "source": [
    "word_in = Input(shape=(sent_max_len))\n",
    "emb_word = Embedding(input_dim=len(word2id), output_dim=20, input_length=sent_max_len, mask_zero=True)(word_in)\n",
    "lstm = Bidirectional(LSTM(units=128))(emb_word)\n",
    "out = Dense(2, activation=\"softmax\")(lstm)\n",
    "\n",
    "model = Model(inputs=word_in, outputs=out)\n",
    "\n",
    "optimizer = optimizers.Adam(learning_rate=0.01)\n",
    "model.compile(optimizer=optimizer, loss=\"binary_crossentropy\", metrics=metrics)"
   ]
  },
  {
   "cell_type": "code",
   "execution_count": null,
   "id": "genuine-crime",
   "metadata": {
    "colab": {
     "base_uri": "https://localhost:8080/"
    },
    "id": "RhLvykWX0mqs",
    "outputId": "aa430799-3fb7-42ed-931a-8cd9ca003633"
   },
   "outputs": [
    {
     "name": "stdout",
     "output_type": "stream",
     "text": [
      "Model: \"model\"\n",
      "_________________________________________________________________\n",
      "Layer (type)                 Output Shape              Param #   \n",
      "=================================================================\n",
      "input_1 (InputLayer)         [(None, 173)]             0         \n",
      "_________________________________________________________________\n",
      "embedding (Embedding)        (None, 173, 20)           522560    \n",
      "_________________________________________________________________\n",
      "bidirectional (Bidirectional (None, 256)               152576    \n",
      "_________________________________________________________________\n",
      "dense (Dense)                (None, 2)                 514       \n",
      "=================================================================\n",
      "Total params: 675,650\n",
      "Trainable params: 675,650\n",
      "Non-trainable params: 0\n",
      "_________________________________________________________________\n"
     ]
    }
   ],
   "source": [
    "model.summary()"
   ]
  },
  {
   "cell_type": "code",
   "execution_count": null,
   "id": "dramatic-longer",
   "metadata": {
    "colab": {
     "base_uri": "https://localhost:8080/"
    },
    "id": "cVeNEkCj20en",
    "outputId": "89b85826-f2e1-4489-b2ca-1957149a0569"
   },
   "outputs": [
    {
     "name": "stdout",
     "output_type": "stream",
     "text": [
      "Epoch 1/2\n",
      "1418/1418 [==============================] - 1644s 1s/step - loss: 0.6263 - precision: 0.6246 - recall: 0.6246 - accuracy: 1.0677e-07 - val_loss: 0.5911 - val_precision: 0.6603 - val_recall: 0.6603 - val_accuracy: 1.8736e-04\n",
      "Epoch 2/2\n",
      "1418/1418 [==============================] - 1702s 1s/step - loss: 0.5702 - precision: 0.6795 - recall: 0.6795 - accuracy: 2.0750e-04 - val_loss: 0.5174 - val_precision: 0.7217 - val_recall: 0.7217 - val_accuracy: 8.9272e-04\n"
     ]
    },
    {
     "data": {
      "text/plain": [
       "<tensorflow.python.keras.callbacks.History at 0x7f6a165976a0>"
      ]
     },
     "execution_count": 23,
     "metadata": {
      "tags": []
     },
     "output_type": "execute_result"
    }
   ],
   "source": [
    "model.fit(X_train, y_train_cat, validation_data=(X_test, y_test_cat), batch_size=128, epochs=2, verbose=1)"
   ]
  },
  {
   "cell_type": "markdown",
   "id": "running-antibody",
   "metadata": {
    "id": "9Wtpi_Vcu5nj"
   },
   "source": [
    "С accuracy проблема: модель предсказывает числа типа 9.7562476e-1, а сравнивает с 0 и 1. Давайте округлим и пересчитаем"
   ]
  },
  {
   "cell_type": "code",
   "execution_count": null,
   "id": "danish-robinson",
   "metadata": {
    "id": "zmtq8jPGszTM"
   },
   "outputs": [],
   "source": [
    "pred = model.predict(X_test[:1000])  # полностью предсказывает долго\r\n",
    "\r\n",
    "rounded_pred = []\r\n",
    "for pair in pred:\r\n",
    "  rounded_pred.append([round(pair[0]), round(pair[1])])"
   ]
  },
  {
   "cell_type": "code",
   "execution_count": 34,
   "id": "clinical-instrumentation",
   "metadata": {
    "id": "4nN9HEj2bmA5"
   },
   "outputs": [],
   "source": [
    "from sklearn.metrics import precision_score, recall_score, accuracy_score"
   ]
  },
  {
   "cell_type": "code",
   "execution_count": null,
   "id": "computational-observation",
   "metadata": {
    "colab": {
     "base_uri": "https://localhost:8080/"
    },
    "id": "8FejcGSfcVvW",
    "outputId": "943608d7-72a2-4167-a1fd-cb6a7072b97b"
   },
   "outputs": [
    {
     "name": "stdout",
     "output_type": "stream",
     "text": [
      "Precision: 0.7363157810524968\n",
      "Recall: 0.742206333327867\n",
      "Accuracy: 0.736\n"
     ]
    }
   ],
   "source": [
    "prec = precision_score(rounded_pred, y_test_cat[:1000], average=\"macro\")\r\n",
    "rec = recall_score(rounded_pred, y_test_cat[:1000], average=\"macro\")\r\n",
    "acc = accuracy_score(rounded_pred, y_test_cat[:1000])\r\n",
    "\r\n",
    "print(f\"Precision: {prec}\")\r\n",
    "print(f\"Recall: {rec}\")\r\n",
    "print(f\"Accuracy: {acc}\")"
   ]
  },
  {
   "cell_type": "markdown",
   "id": "partial-recommendation",
   "metadata": {
    "id": "5HtR21TV4mcx"
   },
   "source": [
    "Я сохраню здесь вывод ячейки выше:\r\n",
    "\r\n",
    "Precision: 0.7363157810524968\r\n",
    "Recall: 0.742206333327867\r\n",
    "Accuracy: 0.736"
   ]
  },
  {
   "cell_type": "markdown",
   "id": "juvenile-astronomy",
   "metadata": {
    "id": "Ew_FFpOm3zCe"
   },
   "source": [
    "# Архитектура 2"
   ]
  },
  {
   "cell_type": "code",
   "execution_count": null,
   "id": "homeless-newman",
   "metadata": {
    "id": "A8CXnl3532jp"
   },
   "outputs": [],
   "source": [
    "# изменим размерность эмбеддингов и лстм, добавим дропаут\r\n",
    "\r\n",
    "word_in = Input(shape=(sent_max_len))\r\n",
    "emb_word = Embedding(input_dim=len(word2id), output_dim=50, input_length=sent_max_len, mask_zero=True)(word_in)\r\n",
    "lstm = Bidirectional(LSTM(units=256, recurrent_dropout=0.15))(emb_word)\r\n",
    "out = Dense(2, activation=\"softmax\")(lstm)\r\n",
    "\r\n",
    "model = Model(inputs=word_in, outputs=out)\r\n",
    "\r\n",
    "optimizer = optimizers.Adam(learning_rate=0.01)\r\n",
    "model.compile(optimizer=optimizer, loss=\"binary_crossentropy\", metrics=metrics)"
   ]
  },
  {
   "cell_type": "code",
   "execution_count": null,
   "id": "established-tuition",
   "metadata": {
    "colab": {
     "base_uri": "https://localhost:8080/"
    },
    "id": "ypYmK7sq4j2m",
    "outputId": "882b696c-b15a-469a-9224-8ba964c8b728"
   },
   "outputs": [
    {
     "name": "stdout",
     "output_type": "stream",
     "text": [
      "Model: \"model_3\"\n",
      "_________________________________________________________________\n",
      "Layer (type)                 Output Shape              Param #   \n",
      "=================================================================\n",
      "input_5 (InputLayer)         [(None, 173)]             0         \n",
      "_________________________________________________________________\n",
      "embedding_4 (Embedding)      (None, 173, 50)           1306400   \n",
      "_________________________________________________________________\n",
      "bidirectional_3 (Bidirection (None, 512)               628736    \n",
      "_________________________________________________________________\n",
      "dense_3 (Dense)              (None, 2)                 1026      \n",
      "=================================================================\n",
      "Total params: 1,936,162\n",
      "Trainable params: 1,936,162\n",
      "Non-trainable params: 0\n",
      "_________________________________________________________________\n"
     ]
    }
   ],
   "source": [
    "model.summary()"
   ]
  },
  {
   "cell_type": "code",
   "execution_count": null,
   "id": "palestinian-warehouse",
   "metadata": {
    "colab": {
     "base_uri": "https://localhost:8080/"
    },
    "id": "iHvD7EgC41vl",
    "outputId": "853903b6-9fb7-44c9-e774-ae6c4144bf3e"
   },
   "outputs": [
    {
     "name": "stdout",
     "output_type": "stream",
     "text": [
      "Epoch 1/2\n",
      "1418/1418 [==============================] - 7134s 5s/step - loss: 0.6273 - precision: 0.6789 - recall: 0.6789 - accuracy: 4.1561e-04 - val_loss: 0.5550 - val_precision: 0.6974 - val_recall: 0.6974 - val_accuracy: 0.0000e+00\n",
      "Epoch 2/2\n",
      "1418/1418 [==============================] - 7072s 5s/step - loss: 0.5326 - precision: 0.7188 - recall: 0.7188 - accuracy: 9.0896e-05 - val_loss: 0.5053 - val_precision: 0.7380 - val_recall: 0.7380 - val_accuracy: 1.6532e-04\n"
     ]
    },
    {
     "data": {
      "text/plain": [
       "<tensorflow.python.keras.callbacks.History at 0x7f6a0c1a1710>"
      ]
     },
     "execution_count": 38,
     "metadata": {
      "tags": []
     },
     "output_type": "execute_result"
    }
   ],
   "source": [
    "model.fit(X_train, y_train_cat, validation_data=(X_test, y_test_cat), batch_size=128, epochs=2, verbose=1)"
   ]
  },
  {
   "cell_type": "markdown",
   "id": "bridal-stranger",
   "metadata": {
    "id": "Et1vJSgmPh_r"
   },
   "source": [
    "Очень медленно обучается (ну, в целом, ожидаемо), оставила модель в колабе на ночь"
   ]
  },
  {
   "cell_type": "code",
   "execution_count": null,
   "id": "formal-structure",
   "metadata": {
    "colab": {
     "base_uri": "https://localhost:8080/"
    },
    "id": "i-EoRW41hzCw",
    "outputId": "56d30bfe-1076-405d-8158-53f963c370cd"
   },
   "outputs": [
    {
     "name": "stdout",
     "output_type": "stream",
     "text": [
      "Precision: 0.7446639146226339\n",
      "Recall: 0.7519410977242302\n",
      "Accuracy: 0.745\n"
     ]
    }
   ],
   "source": [
    "pred = model.predict(X_test[:1000])\r\n",
    "\r\n",
    "rounded_pred = []\r\n",
    "for pair in pred:\r\n",
    "  rounded_pred.append([round(pair[0]), round(pair[1])])\r\n",
    "\r\n",
    "\r\n",
    "prec = precision_score(rounded_pred, y_test_cat[:1000], average=\"macro\")\r\n",
    "rec = recall_score(rounded_pred, y_test_cat[:1000], average=\"macro\")\r\n",
    "acc = accuracy_score(rounded_pred, y_test_cat[:1000])\r\n",
    "\r\n",
    "print(f\"Precision: {prec}\")\r\n",
    "print(f\"Recall: {rec}\")\r\n",
    "print(f\"Accuracy: {acc}\")"
   ]
  },
  {
   "cell_type": "markdown",
   "id": "entire-apparatus",
   "metadata": {
    "id": "hoiJF6O9ew5E"
   },
   "source": [
    "Precision: 0.7446639146226339\r\n",
    "Recall: 0.7519410977242302\r\n",
    "Accuracy: 0.745"
   ]
  },
  {
   "cell_type": "markdown",
   "id": "grave-match",
   "metadata": {
    "id": "7bR606P_PwgK"
   },
   "source": [
    "# Архитектура 3"
   ]
  },
  {
   "cell_type": "markdown",
   "id": "nuclear-jumping",
   "metadata": {
    "id": "1tNDPToHe_dG"
   },
   "source": [
    "Сначала я прерывала обучение архитектуры 2, т.к. оно было очень медленным, поэтому эти результаты получила раньше, чем те, что выше. Так что формально это 2, а 2 — это 3, но не думаю, что нумерация на что-то влияет"
   ]
  },
  {
   "cell_type": "code",
   "execution_count": null,
   "id": "precious-pension",
   "metadata": {
    "id": "OL2lFHxDPyQ3"
   },
   "outputs": [],
   "source": [
    "# вернем размерности, оставим дропаут\r\n",
    "\r\n",
    "word_in = Input(shape=(sent_max_len))\r\n",
    "emb_word = Embedding(input_dim=len(word2id), output_dim=20, input_length=sent_max_len, mask_zero=True)(word_in)\r\n",
    "lstm = Bidirectional(LSTM(units=128, recurrent_dropout=0.15))(emb_word)\r\n",
    "out = Dense(2, activation=\"softmax\")(lstm)\r\n",
    "\r\n",
    "model = Model(inputs=word_in, outputs=out)\r\n",
    "\r\n",
    "optimizer = optimizers.Adam(learning_rate=0.01)\r\n",
    "model.compile(optimizer=optimizer, loss=\"binary_crossentropy\", metrics=metrics)"
   ]
  },
  {
   "cell_type": "code",
   "execution_count": null,
   "id": "prescribed-truth",
   "metadata": {
    "colab": {
     "base_uri": "https://localhost:8080/"
    },
    "id": "0KUYElX9P6pS",
    "outputId": "a18eb79d-ee45-4a03-a902-ab6790579a05"
   },
   "outputs": [
    {
     "name": "stdout",
     "output_type": "stream",
     "text": [
      "Epoch 1/2\n",
      "1418/1418 [==============================] - 2316s 2s/step - loss: 0.6232 - precision: 0.6386 - recall: 0.6386 - accuracy: 1.4995e-04 - val_loss: 0.5279 - val_precision: 0.7196 - val_recall: 0.7196 - val_accuracy: 5.5106e-05\n",
      "Epoch 2/2\n",
      "1418/1418 [==============================] - 2315s 2s/step - loss: 0.5319 - precision: 0.7179 - recall: 0.7179 - accuracy: 2.6501e-04 - val_loss: 0.4893 - val_precision: 0.7496 - val_recall: 0.7496 - val_accuracy: 0.0010\n"
     ]
    },
    {
     "data": {
      "text/plain": [
       "<tensorflow.python.keras.callbacks.History at 0x7f6a1007d828>"
      ]
     },
     "execution_count": 33,
     "metadata": {
      "tags": []
     },
     "output_type": "execute_result"
    }
   ],
   "source": [
    "model.fit(X_train, y_train_cat, validation_data=(X_test, y_test_cat), batch_size=128, epochs=2, verbose=1)"
   ]
  },
  {
   "cell_type": "code",
   "execution_count": null,
   "id": "personal-incentive",
   "metadata": {
    "colab": {
     "base_uri": "https://localhost:8080/"
    },
    "id": "extNF5gRP-SA",
    "outputId": "a540a60d-8f79-475c-ab0a-8c1042e8c0de"
   },
   "outputs": [
    {
     "name": "stdout",
     "output_type": "stream",
     "text": [
      "Precision: 0.765988255812093\n",
      "Recall: 0.7660010240655402\n",
      "Accuracy: 0.766\n"
     ]
    }
   ],
   "source": [
    "pred = model.predict(X_test[:1000])\r\n",
    "\r\n",
    "rounded_pred = []\r\n",
    "for pair in pred:\r\n",
    "  rounded_pred.append([round(pair[0]), round(pair[1])])\r\n",
    "\r\n",
    "\r\n",
    "prec = precision_score(rounded_pred, y_test_cat[:1000], average=\"macro\")\r\n",
    "rec = recall_score(rounded_pred, y_test_cat[:1000], average=\"macro\")\r\n",
    "acc = accuracy_score(rounded_pred, y_test_cat[:1000])\r\n",
    "\r\n",
    "print(f\"Precision: {prec}\")\r\n",
    "print(f\"Recall: {rec}\")\r\n",
    "print(f\"Accuracy: {acc}\")"
   ]
  },
  {
   "cell_type": "markdown",
   "id": "least-arthur",
   "metadata": {
    "id": "wZ7555BShr3E"
   },
   "source": [
    "Precision: 0.765988255812093\r\n",
    "Recall: 0.7660010240655402\r\n",
    "Accuracy: 0.766"
   ]
  },
  {
   "cell_type": "markdown",
   "id": "hazardous-review",
   "metadata": {
    "id": "dAljzMew7o2q"
   },
   "source": [
    "У архитектуры 1 (базовой) все метрики ~0.74, у архитектуры 2 — 0.74-0.75, у архитектуры 3 — 0.76-0.77. Вывод: с размером эмбеддингов 20, 128 нейронами в LSTM + дропаутом 0.15 получается лучше всего."
   ]
  },
  {
   "cell_type": "markdown",
   "id": "joint-lender",
   "metadata": {
    "id": "Q3lc-DQ78JTo"
   },
   "source": [
    "# Готовые эмбеддинги"
   ]
  },
  {
   "cell_type": "code",
   "execution_count": 20,
   "id": "opposed-natural",
   "metadata": {},
   "outputs": [],
   "source": [
    "from gensim.models import KeyedVectors\n",
    "\n",
    "araneum_fasttext = KeyedVectors.load('araneum_none_fasttextcbow_300_5_2018.model')"
   ]
  },
  {
   "cell_type": "code",
   "execution_count": 26,
   "id": "nutritional-rabbit",
   "metadata": {},
   "outputs": [],
   "source": [
    "weights = np.array([araneum_fasttext[id2word[id_]] for id_ in id2word])"
   ]
  },
  {
   "cell_type": "code",
   "execution_count": 27,
   "id": "frank-michael",
   "metadata": {
    "id": "bw__hmcP5WMR"
   },
   "outputs": [
    {
     "data": {
      "text/plain": [
       "(26128, 300)"
      ]
     },
     "execution_count": 27,
     "metadata": {},
     "output_type": "execute_result"
    }
   ],
   "source": [
    "weights.shape"
   ]
  },
  {
   "cell_type": "code",
   "execution_count": 29,
   "id": "tutorial-pocket",
   "metadata": {
    "id": "off2YYv1_XGM"
   },
   "outputs": [],
   "source": [
    "# возьмем за основу архитектуру 3\n",
    "\n",
    "\n",
    "word_in = Input(shape=(sent_max_len))\n",
    "emb_word = Embedding(input_dim=len(word2id), output_dim=300, trainable=False, weights=[weights])(word_in)\n",
    "lstm = Bidirectional(LSTM(units=128, recurrent_dropout=0.15))(emb_word)\n",
    "out = Dense(2, activation=\"softmax\")(lstm)\n",
    "\n",
    "model = Model(inputs=word_in, outputs=out)\n",
    "\n",
    "optimizer = optimizers.Adam(learning_rate=0.01)\n",
    "model.compile(optimizer=optimizer, loss=\"binary_crossentropy\", metrics=metrics)"
   ]
  },
  {
   "cell_type": "code",
   "execution_count": 30,
   "id": "agricultural-crawford",
   "metadata": {
    "id": "O5Ph3csK_YCd"
   },
   "outputs": [
    {
     "name": "stdout",
     "output_type": "stream",
     "text": [
      "Model: \"functional_1\"\n",
      "_________________________________________________________________\n",
      "Layer (type)                 Output Shape              Param #   \n",
      "=================================================================\n",
      "input_4 (InputLayer)         [(None, 173)]             0         \n",
      "_________________________________________________________________\n",
      "embedding_3 (Embedding)      (None, 173, 300)          7838400   \n",
      "_________________________________________________________________\n",
      "bidirectional (Bidirectional (None, 256)               439296    \n",
      "_________________________________________________________________\n",
      "dense (Dense)                (None, 2)                 514       \n",
      "=================================================================\n",
      "Total params: 8,278,210\n",
      "Trainable params: 439,810\n",
      "Non-trainable params: 7,838,400\n",
      "_________________________________________________________________\n"
     ]
    }
   ],
   "source": [
    "model.summary()"
   ]
  },
  {
   "cell_type": "code",
   "execution_count": 31,
   "id": "cooked-congress",
   "metadata": {},
   "outputs": [
    {
     "name": "stdout",
     "output_type": "stream",
     "text": [
      "1418/1418 [==============================] - 465s 328ms/step - loss: 0.6149 - precision: 0.6387 - recall: 0.6387 - accuracy: 0.0000e+00 - val_loss: 0.5229 - val_precision: 0.7157 - val_recall: 0.7157 - val_accuracy: 0.0000e+00\n"
     ]
    },
    {
     "data": {
      "text/plain": [
       "<tensorflow.python.keras.callbacks.History at 0x7f72926a6220>"
      ]
     },
     "execution_count": 31,
     "metadata": {},
     "output_type": "execute_result"
    }
   ],
   "source": [
    "model.fit(X_train, y_train_cat, validation_data=(X_test, y_test_cat), batch_size=128, epochs=1, verbose=1)"
   ]
  },
  {
   "cell_type": "code",
   "execution_count": 32,
   "id": "naughty-summer",
   "metadata": {},
   "outputs": [
    {
     "name": "stdout",
     "output_type": "stream",
     "text": [
      "1418/1418 [==============================] - 465s 328ms/step - loss: 0.4968 - precision: 0.7415 - recall: 0.7415 - accuracy: 0.0000e+00 - val_loss: 0.4736 - val_precision: 0.7599 - val_recall: 0.7599 - val_accuracy: 0.0000e+00\n"
     ]
    },
    {
     "data": {
      "text/plain": [
       "<tensorflow.python.keras.callbacks.History at 0x7f7261289940>"
      ]
     },
     "execution_count": 32,
     "metadata": {},
     "output_type": "execute_result"
    }
   ],
   "source": [
    "model.fit(X_train, y_train_cat, validation_data=(X_test, y_test_cat), batch_size=128, epochs=1, verbose=1)"
   ]
  },
  {
   "cell_type": "code",
   "execution_count": 35,
   "id": "romance-exclusive",
   "metadata": {},
   "outputs": [
    {
     "name": "stdout",
     "output_type": "stream",
     "text": [
      "Precision: 0.7819645114321829\n",
      "Recall: 0.7820728291316527\n",
      "Accuracy: 0.782\n"
     ]
    }
   ],
   "source": [
    "pred = model.predict(X_test[:1000])\n",
    "\n",
    "rounded_pred = []\n",
    "for pair in pred:\n",
    "  rounded_pred.append([round(pair[0]), round(pair[1])])\n",
    "\n",
    "\n",
    "prec = precision_score(rounded_pred, y_test_cat[:1000], average=\"macro\")\n",
    "rec = recall_score(rounded_pred, y_test_cat[:1000], average=\"macro\")\n",
    "acc = accuracy_score(rounded_pred, y_test_cat[:1000])\n",
    "\n",
    "print(f\"Precision: {prec}\")\n",
    "print(f\"Recall: {rec}\")\n",
    "print(f\"Accuracy: {acc}\")"
   ]
  },
  {
   "cell_type": "markdown",
   "id": "optional-doubt",
   "metadata": {},
   "source": [
    "Получилось еще лучше!"
   ]
  },
  {
   "cell_type": "markdown",
   "id": "cooperative-monthly",
   "metadata": {},
   "source": [
    "# Эмбеддинги fasttext с нуля"
   ]
  },
  {
   "cell_type": "code",
   "execution_count": 41,
   "id": "challenging-bikini",
   "metadata": {},
   "outputs": [],
   "source": [
    "corpus = np.concatenate([pos_texts, neg_texts])"
   ]
  },
  {
   "cell_type": "code",
   "execution_count": 48,
   "id": "narrative-nightmare",
   "metadata": {},
   "outputs": [],
   "source": [
    "import gensim\n",
    "\n",
    "ft = gensim.models.FastText(corpus, size=300, iter=5)"
   ]
  },
  {
   "cell_type": "code",
   "execution_count": 49,
   "id": "welcome-roberts",
   "metadata": {},
   "outputs": [
    {
     "name": "stderr",
     "output_type": "stream",
     "text": [
      "<ipython-input-49-c068eb0099b7>:1: DeprecationWarning: Call to deprecated `__getitem__` (Method will be removed in 4.0.0, use self.wv.__getitem__() instead).\n",
      "  ft_weights = np.array([ft[id2word[id_]] for id_ in id2word])\n"
     ]
    }
   ],
   "source": [
    "ft_weights = np.array([ft[id2word[id_]] for id_ in id2word])"
   ]
  },
  {
   "cell_type": "code",
   "execution_count": 50,
   "id": "active-cardiff",
   "metadata": {},
   "outputs": [],
   "source": [
    "word_in = Input(shape=(sent_max_len))\n",
    "emb_word = Embedding(input_dim=len(word2id), output_dim=300, trainable=False, weights=[ft_weights])(word_in)\n",
    "lstm = Bidirectional(LSTM(units=128, recurrent_dropout=0.15))(emb_word)\n",
    "out = Dense(2, activation=\"softmax\")(lstm)\n",
    "\n",
    "model = Model(inputs=word_in, outputs=out)\n",
    "\n",
    "optimizer = optimizers.Adam(learning_rate=0.01)\n",
    "model.compile(optimizer=optimizer, loss=\"binary_crossentropy\", metrics=metrics)"
   ]
  },
  {
   "cell_type": "code",
   "execution_count": 51,
   "id": "charged-singer",
   "metadata": {},
   "outputs": [
    {
     "name": "stdout",
     "output_type": "stream",
     "text": [
      "Model: \"functional_3\"\n",
      "_________________________________________________________________\n",
      "Layer (type)                 Output Shape              Param #   \n",
      "=================================================================\n",
      "input_6 (InputLayer)         [(None, 173)]             0         \n",
      "_________________________________________________________________\n",
      "embedding_5 (Embedding)      (None, 173, 300)          7838400   \n",
      "_________________________________________________________________\n",
      "bidirectional_1 (Bidirection (None, 256)               439296    \n",
      "_________________________________________________________________\n",
      "dense_1 (Dense)              (None, 2)                 514       \n",
      "=================================================================\n",
      "Total params: 8,278,210\n",
      "Trainable params: 439,810\n",
      "Non-trainable params: 7,838,400\n",
      "_________________________________________________________________\n"
     ]
    }
   ],
   "source": [
    "model.summary()"
   ]
  },
  {
   "cell_type": "code",
   "execution_count": 52,
   "id": "genuine-kitty",
   "metadata": {},
   "outputs": [
    {
     "name": "stdout",
     "output_type": "stream",
     "text": [
      "Epoch 1/2\n",
      "1418/1418 [==============================] - 465s 328ms/step - loss: 0.6986 - precision: 0.5544 - recall: 0.5544 - accuracy: 0.0000e+00 - val_loss: 0.7052 - val_precision: 0.4914 - val_recall: 0.4914 - val_accuracy: 0.0000e+00\n",
      "Epoch 2/2\n",
      "1418/1418 [==============================] - 466s 328ms/step - loss: 0.6972 - precision: 0.5022 - recall: 0.5022 - accuracy: 0.0000e+00 - val_loss: 0.6940 - val_precision: 0.5086 - val_recall: 0.5086 - val_accuracy: 0.0000e+00\n"
     ]
    },
    {
     "data": {
      "text/plain": [
       "<tensorflow.python.keras.callbacks.History at 0x7f725fcd3160>"
      ]
     },
     "execution_count": 52,
     "metadata": {},
     "output_type": "execute_result"
    }
   ],
   "source": [
    "model.fit(X_train, y_train_cat, validation_data=(X_test, y_test_cat), batch_size=128, epochs=2, verbose=1)"
   ]
  },
  {
   "cell_type": "code",
   "execution_count": 53,
   "id": "noted-turner",
   "metadata": {},
   "outputs": [
    {
     "name": "stdout",
     "output_type": "stream",
     "text": [
      "Precision: 0.5\n",
      "Recall: 0.251\n",
      "Accuracy: 0.502\n"
     ]
    },
    {
     "name": "stderr",
     "output_type": "stream",
     "text": [
      "/home/grafd/venv/lib/python3.8/site-packages/sklearn/metrics/_classification.py:1245: UndefinedMetricWarning: Recall is ill-defined and being set to 0.0 in labels with no true samples. Use `zero_division` parameter to control this behavior.\n",
      "  _warn_prf(average, modifier, msg_start, len(result))\n"
     ]
    }
   ],
   "source": [
    "pred = model.predict(X_test[:1000])\n",
    "\n",
    "rounded_pred = []\n",
    "for pair in pred:\n",
    "  rounded_pred.append([round(pair[0]), round(pair[1])])\n",
    "\n",
    "\n",
    "prec = precision_score(rounded_pred, y_test_cat[:1000], average=\"macro\")\n",
    "rec = recall_score(rounded_pred, y_test_cat[:1000], average=\"macro\")\n",
    "acc = accuracy_score(rounded_pred, y_test_cat[:1000])\n",
    "\n",
    "print(f\"Precision: {prec}\")\n",
    "print(f\"Recall: {rec}\")\n",
    "print(f\"Accuracy: {acc}\")"
   ]
  },
  {
   "cell_type": "markdown",
   "id": "living-allergy",
   "metadata": {},
   "source": [
    "штош"
   ]
  },
  {
   "cell_type": "code",
   "execution_count": 54,
   "id": "boolean-thailand",
   "metadata": {},
   "outputs": [],
   "source": [
    "ft = gensim.models.FastText(corpus, size=300, iter=20)"
   ]
  },
  {
   "cell_type": "code",
   "execution_count": 55,
   "id": "promising-archive",
   "metadata": {},
   "outputs": [
    {
     "name": "stderr",
     "output_type": "stream",
     "text": [
      "<ipython-input-55-f5367c4f4ae0>:1: DeprecationWarning: Call to deprecated `__getitem__` (Method will be removed in 4.0.0, use self.wv.__getitem__() instead).\n",
      "  ft_weights = np.array([ft[id2word[id_]] for id_ in id2word])\n"
     ]
    },
    {
     "name": "stdout",
     "output_type": "stream",
     "text": [
      "Epoch 1/2\n",
      "1418/1418 [==============================] - 466s 328ms/step - loss: 0.7081 - precision: 0.5018 - recall: 0.5018 - accuracy: 0.0000e+00 - val_loss: 0.6932 - val_precision: 0.4914 - val_recall: 0.4914 - val_accuracy: 0.0000e+00\n",
      "Epoch 2/2\n",
      "1418/1418 [==============================] - 466s 328ms/step - loss: 0.7066 - precision: 0.5012 - recall: 0.5012 - accuracy: 0.0000e+00 - val_loss: 0.7327 - val_precision: 0.5086 - val_recall: 0.5086 - val_accuracy: 0.0000e+00\n"
     ]
    },
    {
     "data": {
      "text/plain": [
       "<tensorflow.python.keras.callbacks.History at 0x7f7290ac4400>"
      ]
     },
     "execution_count": 55,
     "metadata": {},
     "output_type": "execute_result"
    }
   ],
   "source": [
    "ft_weights = np.array([ft[id2word[id_]] for id_ in id2word])\n",
    "\n",
    "word_in = Input(shape=(sent_max_len))\n",
    "emb_word = Embedding(input_dim=len(word2id), output_dim=300, trainable=False, weights=[ft_weights])(word_in)\n",
    "lstm = Bidirectional(LSTM(units=128, recurrent_dropout=0.15))(emb_word)\n",
    "out = Dense(2, activation=\"softmax\")(lstm)\n",
    "\n",
    "model = Model(inputs=word_in, outputs=out)\n",
    "\n",
    "optimizer = optimizers.Adam(learning_rate=0.01)\n",
    "model.compile(optimizer=optimizer, loss=\"binary_crossentropy\", metrics=metrics)\n",
    "\n",
    "model.fit(X_train, y_train_cat, validation_data=(X_test, y_test_cat), batch_size=128, epochs=2, verbose=1)"
   ]
  },
  {
   "cell_type": "markdown",
   "id": "personalized-duration",
   "metadata": {},
   "source": [
    "Увеличение числа эпох фасттекста не помогло :("
   ]
  },
  {
   "cell_type": "markdown",
   "id": "played-rebound",
   "metadata": {},
   "source": [
    "# Два входа"
   ]
  },
  {
   "cell_type": "code",
   "execution_count": 56,
   "id": "extra-advantage",
   "metadata": {},
   "outputs": [
    {
     "name": "stdout",
     "output_type": "stream",
     "text": [
      "{'т', 'n', 'в', 'e', 'и', 't', 'а', 'г', 'ї', 'q', 'u', 'k', 'щ', 'ë', 'g', 'x', 'і', 'ё', '6', 'м', 'ы', 's', 'ғ', 'd', 'р', 'ю', '0', 'є', 'х', 'j', 'w', 'л', 'o', 'ъ', '3', 'к', '7', 'ь', 'b', 'я', 'z', 'p', 'v', 'у', '9', 'й', 'a', '1', 'э', 'қ', 'е', 'п', 'f', 'c', 'с', 'ө', 'б', 'i', 'h', 'ч', 'ʘ', 'ф', 'l', '5', 'ц', 'з', 'ш', 'r', 'ў', '_', 'ж', 'д', 'ү', 'y', 'm', '2', 'о', 'н', '4', 'ң', '8'}\n"
     ]
    }
   ],
   "source": [
    "chars = set([letter for word in filtered_vocab for letter in word])\n",
    "n_chars = len(chars)\n",
    "print(chars)"
   ]
  },
  {
   "cell_type": "code",
   "execution_count": 57,
   "id": "black-badge",
   "metadata": {},
   "outputs": [],
   "source": [
    "char2id = {c: i + 2 for i, c in enumerate(chars)}\n",
    "char2id[\"pad\"] = 0\n",
    "char2id[\"unk\"] = 1\n",
    "\n",
    "id2char = {i: char for char, i in char2id.items()}"
   ]
  },
  {
   "cell_type": "code",
   "execution_count": 59,
   "id": "vocational-browse",
   "metadata": {},
   "outputs": [
    {
     "name": "stdout",
     "output_type": "stream",
     "text": [
      "максимальная длина слова: 33\n"
     ]
    }
   ],
   "source": [
    "char_max_len = max(len(x) for x in filtered_vocab)\n",
    "print(\"максимальная длина слова:\", char_max_len)"
   ]
  },
  {
   "cell_type": "code",
   "execution_count": 66,
   "id": "mediterranean-thesis",
   "metadata": {},
   "outputs": [],
   "source": [
    "X_train, X_test, y_train, y_test = train_test_split(texts, target, test_size=.2, random_state=1337)\n",
    "\n",
    "X_train, X_test = pad_sequences(X_train_ids, maxlen=sent_max_len, padding='post'), pad_sequences(X_test_ids, maxlen=sent_max_len, padding='post')"
   ]
  },
  {
   "cell_type": "code",
   "execution_count": 67,
   "id": "alpine-circus",
   "metadata": {},
   "outputs": [],
   "source": [
    "def make_X_char(sentences):\n",
    "  X_char = []\n",
    "  for sentence in sentences:\n",
    "      sent_seq = []\n",
    "      for i in range(sent_max_len):\n",
    "          word_seq = []\n",
    "          for j in range(char_max_len):\n",
    "              try:\n",
    "                  word_seq.append(char2id[sentence[i][j].lower()])\n",
    "              except:\n",
    "                  word_seq.append(char2id[\"pad\"])\n",
    "          sent_seq.append(word_seq)\n",
    "      X_char.append(np.array(sent_seq))\n",
    "  return np.array(X_char)\n",
    "\n",
    "\n",
    "# срез, потому что полностью очень долго\n",
    "X_char_train, X_char_test = make_X_char(X_train[:1000]), make_X_char(X_test[:500])"
   ]
  },
  {
   "cell_type": "code",
   "execution_count": 75,
   "id": "dried-shell",
   "metadata": {},
   "outputs": [],
   "source": [
    "# возьмем готовые эмбеддинги \n",
    "word_in = Input(shape=(sent_max_len))\n",
    "emb_word = Embedding(input_dim=len(word2id), output_dim=300, trainable=False, weights=[weights])(word_in)\n",
    "\n",
    "char_in = Input(shape=(sent_max_len, char_max_len))\n",
    "emb_char = TimeDistributed(Embedding(input_dim=len(char2id), output_dim=10, input_length=char_max_len))(char_in)\n",
    "char_enc = TimeDistributed(Conv1D(filters=12, kernel_size=3))(emb_char)\n",
    "char_flat = TimeDistributed(Flatten())(char_enc)\n",
    "\n",
    "x = concatenate([emb_word, char_flat])\n",
    "main_lstm = Bidirectional(LSTM(units=128,\n",
    "                               recurrent_dropout=0.15)\n",
    "                         )(x)\n",
    "out = Dense(2, activation=\"softmax\")(main_lstm)\n",
    "\n",
    "model = Model(inputs=[char_in, word_in], outputs=out)\n",
    "\n",
    "\n",
    "optimizer = optimizers.Adam(learning_rate=0.001)\n",
    "model.compile(optimizer=optimizer, loss=\"categorical_crossentropy\", metrics=metrics)"
   ]
  },
  {
   "cell_type": "code",
   "execution_count": 76,
   "id": "indirect-dominican",
   "metadata": {},
   "outputs": [
    {
     "name": "stdout",
     "output_type": "stream",
     "text": [
      "Model: \"functional_9\"\n",
      "__________________________________________________________________________________________________\n",
      "Layer (type)                    Output Shape         Param #     Connected to                     \n",
      "==================================================================================================\n",
      "input_17 (InputLayer)           [(None, 173, 33)]    0                                            \n",
      "__________________________________________________________________________________________________\n",
      "time_distributed_9 (TimeDistrib (None, 173, 33, 10)  830         input_17[0][0]                   \n",
      "__________________________________________________________________________________________________\n",
      "input_16 (InputLayer)           [(None, 173)]        0                                            \n",
      "__________________________________________________________________________________________________\n",
      "time_distributed_10 (TimeDistri (None, 173, 31, 12)  372         time_distributed_9[0][0]         \n",
      "__________________________________________________________________________________________________\n",
      "embedding_15 (Embedding)        (None, 173, 300)     7838400     input_16[0][0]                   \n",
      "__________________________________________________________________________________________________\n",
      "time_distributed_11 (TimeDistri (None, 173, 372)     0           time_distributed_10[0][0]        \n",
      "__________________________________________________________________________________________________\n",
      "concatenate_4 (Concatenate)     (None, 173, 672)     0           embedding_15[0][0]               \n",
      "                                                                 time_distributed_11[0][0]        \n",
      "__________________________________________________________________________________________________\n",
      "bidirectional_6 (Bidirectional) (None, 256)          820224      concatenate_4[0][0]              \n",
      "__________________________________________________________________________________________________\n",
      "dense_4 (Dense)                 (None, 2)            514         bidirectional_6[0][0]            \n",
      "==================================================================================================\n",
      "Total params: 8,660,340\n",
      "Trainable params: 821,940\n",
      "Non-trainable params: 7,838,400\n",
      "__________________________________________________________________________________________________\n"
     ]
    }
   ],
   "source": [
    "model.summary()"
   ]
  },
  {
   "cell_type": "code",
   "execution_count": 77,
   "id": "curious-police",
   "metadata": {},
   "outputs": [
    {
     "name": "stdout",
     "output_type": "stream",
     "text": [
      "Epoch 1/2\n",
      "WARNING:tensorflow:Model was constructed with shape (None, 173, 33) for input Tensor(\"input_17:0\", shape=(None, 173, 33), dtype=float32), but it was called on an input with incompatible shape (None, 173).\n"
     ]
    },
    {
     "ename": "ValueError",
     "evalue": "in user code:\n\n    /home/grafd/venv/lib/python3.8/site-packages/tensorflow/python/keras/engine/training.py:806 train_function  *\n        return step_function(self, iterator)\n    /home/grafd/venv/lib/python3.8/site-packages/tensorflow/python/keras/engine/training.py:796 step_function  **\n        outputs = model.distribute_strategy.run(run_step, args=(data,))\n    /home/grafd/venv/lib/python3.8/site-packages/tensorflow/python/distribute/distribute_lib.py:1211 run\n        return self._extended.call_for_each_replica(fn, args=args, kwargs=kwargs)\n    /home/grafd/venv/lib/python3.8/site-packages/tensorflow/python/distribute/distribute_lib.py:2585 call_for_each_replica\n        return self._call_for_each_replica(fn, args, kwargs)\n    /home/grafd/venv/lib/python3.8/site-packages/tensorflow/python/distribute/distribute_lib.py:2945 _call_for_each_replica\n        return fn(*args, **kwargs)\n    /home/grafd/venv/lib/python3.8/site-packages/tensorflow/python/keras/engine/training.py:789 run_step  **\n        outputs = model.train_step(data)\n    /home/grafd/venv/lib/python3.8/site-packages/tensorflow/python/keras/engine/training.py:747 train_step\n        y_pred = self(x, training=True)\n    /home/grafd/venv/lib/python3.8/site-packages/tensorflow/python/keras/engine/base_layer.py:985 __call__\n        outputs = call_fn(inputs, *args, **kwargs)\n    /home/grafd/venv/lib/python3.8/site-packages/tensorflow/python/keras/engine/functional.py:385 call\n        return self._run_internal_graph(\n    /home/grafd/venv/lib/python3.8/site-packages/tensorflow/python/keras/engine/functional.py:508 _run_internal_graph\n        outputs = node.layer(*args, **kwargs)\n    /home/grafd/venv/lib/python3.8/site-packages/tensorflow/python/keras/engine/base_layer.py:975 __call__\n        input_spec.assert_input_compatibility(self.input_spec, inputs,\n    /home/grafd/venv/lib/python3.8/site-packages/tensorflow/python/keras/engine/input_spec.py:176 assert_input_compatibility\n        raise ValueError('Input ' + str(input_index) + ' of layer ' +\n\n    ValueError: Input 0 of layer time_distributed_9 is incompatible with the layer: expected ndim=3, found ndim=2. Full shape received: [None, 173]\n",
     "output_type": "error",
     "traceback": [
      "\u001b[0;31m---------------------------------------------------------------------------\u001b[0m",
      "\u001b[0;31mValueError\u001b[0m                                Traceback (most recent call last)",
      "\u001b[0;32m<ipython-input-77-e044660097be>\u001b[0m in \u001b[0;36m<module>\u001b[0;34m\u001b[0m\n\u001b[0;32m----> 1\u001b[0;31m \u001b[0mmodel\u001b[0m\u001b[0;34m.\u001b[0m\u001b[0mfit\u001b[0m\u001b[0;34m(\u001b[0m\u001b[0mX_train\u001b[0m\u001b[0;34m,\u001b[0m \u001b[0my_train_cat\u001b[0m\u001b[0;34m,\u001b[0m \u001b[0mvalidation_data\u001b[0m\u001b[0;34m=\u001b[0m\u001b[0;34m(\u001b[0m\u001b[0mX_test\u001b[0m\u001b[0;34m,\u001b[0m \u001b[0my_test_cat\u001b[0m\u001b[0;34m)\u001b[0m\u001b[0;34m,\u001b[0m \u001b[0mbatch_size\u001b[0m\u001b[0;34m=\u001b[0m\u001b[0;36m128\u001b[0m\u001b[0;34m,\u001b[0m \u001b[0mepochs\u001b[0m\u001b[0;34m=\u001b[0m\u001b[0;36m2\u001b[0m\u001b[0;34m,\u001b[0m \u001b[0mverbose\u001b[0m\u001b[0;34m=\u001b[0m\u001b[0;36m1\u001b[0m\u001b[0;34m)\u001b[0m\u001b[0;34m\u001b[0m\u001b[0;34m\u001b[0m\u001b[0m\n\u001b[0m",
      "\u001b[0;32m~/venv/lib/python3.8/site-packages/tensorflow/python/keras/engine/training.py\u001b[0m in \u001b[0;36m_method_wrapper\u001b[0;34m(self, *args, **kwargs)\u001b[0m\n\u001b[1;32m    106\u001b[0m   \u001b[0;32mdef\u001b[0m \u001b[0m_method_wrapper\u001b[0m\u001b[0;34m(\u001b[0m\u001b[0mself\u001b[0m\u001b[0;34m,\u001b[0m \u001b[0;34m*\u001b[0m\u001b[0margs\u001b[0m\u001b[0;34m,\u001b[0m \u001b[0;34m**\u001b[0m\u001b[0mkwargs\u001b[0m\u001b[0;34m)\u001b[0m\u001b[0;34m:\u001b[0m\u001b[0;34m\u001b[0m\u001b[0;34m\u001b[0m\u001b[0m\n\u001b[1;32m    107\u001b[0m     \u001b[0;32mif\u001b[0m \u001b[0;32mnot\u001b[0m \u001b[0mself\u001b[0m\u001b[0;34m.\u001b[0m\u001b[0m_in_multi_worker_mode\u001b[0m\u001b[0;34m(\u001b[0m\u001b[0;34m)\u001b[0m\u001b[0;34m:\u001b[0m  \u001b[0;31m# pylint: disable=protected-access\u001b[0m\u001b[0;34m\u001b[0m\u001b[0;34m\u001b[0m\u001b[0m\n\u001b[0;32m--> 108\u001b[0;31m       \u001b[0;32mreturn\u001b[0m \u001b[0mmethod\u001b[0m\u001b[0;34m(\u001b[0m\u001b[0mself\u001b[0m\u001b[0;34m,\u001b[0m \u001b[0;34m*\u001b[0m\u001b[0margs\u001b[0m\u001b[0;34m,\u001b[0m \u001b[0;34m**\u001b[0m\u001b[0mkwargs\u001b[0m\u001b[0;34m)\u001b[0m\u001b[0;34m\u001b[0m\u001b[0;34m\u001b[0m\u001b[0m\n\u001b[0m\u001b[1;32m    109\u001b[0m \u001b[0;34m\u001b[0m\u001b[0m\n\u001b[1;32m    110\u001b[0m     \u001b[0;31m# Running inside `run_distribute_coordinator` already.\u001b[0m\u001b[0;34m\u001b[0m\u001b[0;34m\u001b[0m\u001b[0;34m\u001b[0m\u001b[0m\n",
      "\u001b[0;32m~/venv/lib/python3.8/site-packages/tensorflow/python/keras/engine/training.py\u001b[0m in \u001b[0;36mfit\u001b[0;34m(self, x, y, batch_size, epochs, verbose, callbacks, validation_split, validation_data, shuffle, class_weight, sample_weight, initial_epoch, steps_per_epoch, validation_steps, validation_batch_size, validation_freq, max_queue_size, workers, use_multiprocessing)\u001b[0m\n\u001b[1;32m   1096\u001b[0m                 batch_size=batch_size):\n\u001b[1;32m   1097\u001b[0m               \u001b[0mcallbacks\u001b[0m\u001b[0;34m.\u001b[0m\u001b[0mon_train_batch_begin\u001b[0m\u001b[0;34m(\u001b[0m\u001b[0mstep\u001b[0m\u001b[0;34m)\u001b[0m\u001b[0;34m\u001b[0m\u001b[0;34m\u001b[0m\u001b[0m\n\u001b[0;32m-> 1098\u001b[0;31m               \u001b[0mtmp_logs\u001b[0m \u001b[0;34m=\u001b[0m \u001b[0mtrain_function\u001b[0m\u001b[0;34m(\u001b[0m\u001b[0miterator\u001b[0m\u001b[0;34m)\u001b[0m\u001b[0;34m\u001b[0m\u001b[0;34m\u001b[0m\u001b[0m\n\u001b[0m\u001b[1;32m   1099\u001b[0m               \u001b[0;32mif\u001b[0m \u001b[0mdata_handler\u001b[0m\u001b[0;34m.\u001b[0m\u001b[0mshould_sync\u001b[0m\u001b[0;34m:\u001b[0m\u001b[0;34m\u001b[0m\u001b[0;34m\u001b[0m\u001b[0m\n\u001b[1;32m   1100\u001b[0m                 \u001b[0mcontext\u001b[0m\u001b[0;34m.\u001b[0m\u001b[0masync_wait\u001b[0m\u001b[0;34m(\u001b[0m\u001b[0;34m)\u001b[0m\u001b[0;34m\u001b[0m\u001b[0;34m\u001b[0m\u001b[0m\n",
      "\u001b[0;32m~/venv/lib/python3.8/site-packages/tensorflow/python/eager/def_function.py\u001b[0m in \u001b[0;36m__call__\u001b[0;34m(self, *args, **kwds)\u001b[0m\n\u001b[1;32m    778\u001b[0m       \u001b[0;32melse\u001b[0m\u001b[0;34m:\u001b[0m\u001b[0;34m\u001b[0m\u001b[0;34m\u001b[0m\u001b[0m\n\u001b[1;32m    779\u001b[0m         \u001b[0mcompiler\u001b[0m \u001b[0;34m=\u001b[0m \u001b[0;34m\"nonXla\"\u001b[0m\u001b[0;34m\u001b[0m\u001b[0;34m\u001b[0m\u001b[0m\n\u001b[0;32m--> 780\u001b[0;31m         \u001b[0mresult\u001b[0m \u001b[0;34m=\u001b[0m \u001b[0mself\u001b[0m\u001b[0;34m.\u001b[0m\u001b[0m_call\u001b[0m\u001b[0;34m(\u001b[0m\u001b[0;34m*\u001b[0m\u001b[0margs\u001b[0m\u001b[0;34m,\u001b[0m \u001b[0;34m**\u001b[0m\u001b[0mkwds\u001b[0m\u001b[0;34m)\u001b[0m\u001b[0;34m\u001b[0m\u001b[0;34m\u001b[0m\u001b[0m\n\u001b[0m\u001b[1;32m    781\u001b[0m \u001b[0;34m\u001b[0m\u001b[0m\n\u001b[1;32m    782\u001b[0m       \u001b[0mnew_tracing_count\u001b[0m \u001b[0;34m=\u001b[0m \u001b[0mself\u001b[0m\u001b[0;34m.\u001b[0m\u001b[0m_get_tracing_count\u001b[0m\u001b[0;34m(\u001b[0m\u001b[0;34m)\u001b[0m\u001b[0;34m\u001b[0m\u001b[0;34m\u001b[0m\u001b[0m\n",
      "\u001b[0;32m~/venv/lib/python3.8/site-packages/tensorflow/python/eager/def_function.py\u001b[0m in \u001b[0;36m_call\u001b[0;34m(self, *args, **kwds)\u001b[0m\n\u001b[1;32m    821\u001b[0m       \u001b[0;31m# This is the first call of __call__, so we have to initialize.\u001b[0m\u001b[0;34m\u001b[0m\u001b[0;34m\u001b[0m\u001b[0;34m\u001b[0m\u001b[0m\n\u001b[1;32m    822\u001b[0m       \u001b[0minitializers\u001b[0m \u001b[0;34m=\u001b[0m \u001b[0;34m[\u001b[0m\u001b[0;34m]\u001b[0m\u001b[0;34m\u001b[0m\u001b[0;34m\u001b[0m\u001b[0m\n\u001b[0;32m--> 823\u001b[0;31m       \u001b[0mself\u001b[0m\u001b[0;34m.\u001b[0m\u001b[0m_initialize\u001b[0m\u001b[0;34m(\u001b[0m\u001b[0margs\u001b[0m\u001b[0;34m,\u001b[0m \u001b[0mkwds\u001b[0m\u001b[0;34m,\u001b[0m \u001b[0madd_initializers_to\u001b[0m\u001b[0;34m=\u001b[0m\u001b[0minitializers\u001b[0m\u001b[0;34m)\u001b[0m\u001b[0;34m\u001b[0m\u001b[0;34m\u001b[0m\u001b[0m\n\u001b[0m\u001b[1;32m    824\u001b[0m     \u001b[0;32mfinally\u001b[0m\u001b[0;34m:\u001b[0m\u001b[0;34m\u001b[0m\u001b[0;34m\u001b[0m\u001b[0m\n\u001b[1;32m    825\u001b[0m       \u001b[0;31m# At this point we know that the initialization is complete (or less\u001b[0m\u001b[0;34m\u001b[0m\u001b[0;34m\u001b[0m\u001b[0;34m\u001b[0m\u001b[0m\n",
      "\u001b[0;32m~/venv/lib/python3.8/site-packages/tensorflow/python/eager/def_function.py\u001b[0m in \u001b[0;36m_initialize\u001b[0;34m(self, args, kwds, add_initializers_to)\u001b[0m\n\u001b[1;32m    694\u001b[0m     \u001b[0mself\u001b[0m\u001b[0;34m.\u001b[0m\u001b[0m_graph_deleter\u001b[0m \u001b[0;34m=\u001b[0m \u001b[0mFunctionDeleter\u001b[0m\u001b[0;34m(\u001b[0m\u001b[0mself\u001b[0m\u001b[0;34m.\u001b[0m\u001b[0m_lifted_initializer_graph\u001b[0m\u001b[0;34m)\u001b[0m\u001b[0;34m\u001b[0m\u001b[0;34m\u001b[0m\u001b[0m\n\u001b[1;32m    695\u001b[0m     self._concrete_stateful_fn = (\n\u001b[0;32m--> 696\u001b[0;31m         self._stateful_fn._get_concrete_function_internal_garbage_collected(  # pylint: disable=protected-access\n\u001b[0m\u001b[1;32m    697\u001b[0m             *args, **kwds))\n\u001b[1;32m    698\u001b[0m \u001b[0;34m\u001b[0m\u001b[0m\n",
      "\u001b[0;32m~/venv/lib/python3.8/site-packages/tensorflow/python/eager/function.py\u001b[0m in \u001b[0;36m_get_concrete_function_internal_garbage_collected\u001b[0;34m(self, *args, **kwargs)\u001b[0m\n\u001b[1;32m   2853\u001b[0m       \u001b[0margs\u001b[0m\u001b[0;34m,\u001b[0m \u001b[0mkwargs\u001b[0m \u001b[0;34m=\u001b[0m \u001b[0;32mNone\u001b[0m\u001b[0;34m,\u001b[0m \u001b[0;32mNone\u001b[0m\u001b[0;34m\u001b[0m\u001b[0;34m\u001b[0m\u001b[0m\n\u001b[1;32m   2854\u001b[0m     \u001b[0;32mwith\u001b[0m \u001b[0mself\u001b[0m\u001b[0;34m.\u001b[0m\u001b[0m_lock\u001b[0m\u001b[0;34m:\u001b[0m\u001b[0;34m\u001b[0m\u001b[0;34m\u001b[0m\u001b[0m\n\u001b[0;32m-> 2855\u001b[0;31m       \u001b[0mgraph_function\u001b[0m\u001b[0;34m,\u001b[0m \u001b[0m_\u001b[0m\u001b[0;34m,\u001b[0m \u001b[0m_\u001b[0m \u001b[0;34m=\u001b[0m \u001b[0mself\u001b[0m\u001b[0;34m.\u001b[0m\u001b[0m_maybe_define_function\u001b[0m\u001b[0;34m(\u001b[0m\u001b[0margs\u001b[0m\u001b[0;34m,\u001b[0m \u001b[0mkwargs\u001b[0m\u001b[0;34m)\u001b[0m\u001b[0;34m\u001b[0m\u001b[0;34m\u001b[0m\u001b[0m\n\u001b[0m\u001b[1;32m   2856\u001b[0m     \u001b[0;32mreturn\u001b[0m \u001b[0mgraph_function\u001b[0m\u001b[0;34m\u001b[0m\u001b[0;34m\u001b[0m\u001b[0m\n\u001b[1;32m   2857\u001b[0m \u001b[0;34m\u001b[0m\u001b[0m\n",
      "\u001b[0;32m~/venv/lib/python3.8/site-packages/tensorflow/python/eager/function.py\u001b[0m in \u001b[0;36m_maybe_define_function\u001b[0;34m(self, args, kwargs)\u001b[0m\n\u001b[1;32m   3211\u001b[0m \u001b[0;34m\u001b[0m\u001b[0m\n\u001b[1;32m   3212\u001b[0m       \u001b[0mself\u001b[0m\u001b[0;34m.\u001b[0m\u001b[0m_function_cache\u001b[0m\u001b[0;34m.\u001b[0m\u001b[0mmissed\u001b[0m\u001b[0;34m.\u001b[0m\u001b[0madd\u001b[0m\u001b[0;34m(\u001b[0m\u001b[0mcall_context_key\u001b[0m\u001b[0;34m)\u001b[0m\u001b[0;34m\u001b[0m\u001b[0;34m\u001b[0m\u001b[0m\n\u001b[0;32m-> 3213\u001b[0;31m       \u001b[0mgraph_function\u001b[0m \u001b[0;34m=\u001b[0m \u001b[0mself\u001b[0m\u001b[0;34m.\u001b[0m\u001b[0m_create_graph_function\u001b[0m\u001b[0;34m(\u001b[0m\u001b[0margs\u001b[0m\u001b[0;34m,\u001b[0m \u001b[0mkwargs\u001b[0m\u001b[0;34m)\u001b[0m\u001b[0;34m\u001b[0m\u001b[0;34m\u001b[0m\u001b[0m\n\u001b[0m\u001b[1;32m   3214\u001b[0m       \u001b[0mself\u001b[0m\u001b[0;34m.\u001b[0m\u001b[0m_function_cache\u001b[0m\u001b[0;34m.\u001b[0m\u001b[0mprimary\u001b[0m\u001b[0;34m[\u001b[0m\u001b[0mcache_key\u001b[0m\u001b[0;34m]\u001b[0m \u001b[0;34m=\u001b[0m \u001b[0mgraph_function\u001b[0m\u001b[0;34m\u001b[0m\u001b[0;34m\u001b[0m\u001b[0m\n\u001b[1;32m   3215\u001b[0m       \u001b[0;32mreturn\u001b[0m \u001b[0mgraph_function\u001b[0m\u001b[0;34m,\u001b[0m \u001b[0margs\u001b[0m\u001b[0;34m,\u001b[0m \u001b[0mkwargs\u001b[0m\u001b[0;34m\u001b[0m\u001b[0;34m\u001b[0m\u001b[0m\n",
      "\u001b[0;32m~/venv/lib/python3.8/site-packages/tensorflow/python/eager/function.py\u001b[0m in \u001b[0;36m_create_graph_function\u001b[0;34m(self, args, kwargs, override_flat_arg_shapes)\u001b[0m\n\u001b[1;32m   3063\u001b[0m     \u001b[0marg_names\u001b[0m \u001b[0;34m=\u001b[0m \u001b[0mbase_arg_names\u001b[0m \u001b[0;34m+\u001b[0m \u001b[0mmissing_arg_names\u001b[0m\u001b[0;34m\u001b[0m\u001b[0;34m\u001b[0m\u001b[0m\n\u001b[1;32m   3064\u001b[0m     graph_function = ConcreteFunction(\n\u001b[0;32m-> 3065\u001b[0;31m         func_graph_module.func_graph_from_py_func(\n\u001b[0m\u001b[1;32m   3066\u001b[0m             \u001b[0mself\u001b[0m\u001b[0;34m.\u001b[0m\u001b[0m_name\u001b[0m\u001b[0;34m,\u001b[0m\u001b[0;34m\u001b[0m\u001b[0;34m\u001b[0m\u001b[0m\n\u001b[1;32m   3067\u001b[0m             \u001b[0mself\u001b[0m\u001b[0;34m.\u001b[0m\u001b[0m_python_function\u001b[0m\u001b[0;34m,\u001b[0m\u001b[0;34m\u001b[0m\u001b[0;34m\u001b[0m\u001b[0m\n",
      "\u001b[0;32m~/venv/lib/python3.8/site-packages/tensorflow/python/framework/func_graph.py\u001b[0m in \u001b[0;36mfunc_graph_from_py_func\u001b[0;34m(name, python_func, args, kwargs, signature, func_graph, autograph, autograph_options, add_control_dependencies, arg_names, op_return_value, collections, capture_by_value, override_flat_arg_shapes)\u001b[0m\n\u001b[1;32m    984\u001b[0m         \u001b[0m_\u001b[0m\u001b[0;34m,\u001b[0m \u001b[0moriginal_func\u001b[0m \u001b[0;34m=\u001b[0m \u001b[0mtf_decorator\u001b[0m\u001b[0;34m.\u001b[0m\u001b[0munwrap\u001b[0m\u001b[0;34m(\u001b[0m\u001b[0mpython_func\u001b[0m\u001b[0;34m)\u001b[0m\u001b[0;34m\u001b[0m\u001b[0;34m\u001b[0m\u001b[0m\n\u001b[1;32m    985\u001b[0m \u001b[0;34m\u001b[0m\u001b[0m\n\u001b[0;32m--> 986\u001b[0;31m       \u001b[0mfunc_outputs\u001b[0m \u001b[0;34m=\u001b[0m \u001b[0mpython_func\u001b[0m\u001b[0;34m(\u001b[0m\u001b[0;34m*\u001b[0m\u001b[0mfunc_args\u001b[0m\u001b[0;34m,\u001b[0m \u001b[0;34m**\u001b[0m\u001b[0mfunc_kwargs\u001b[0m\u001b[0;34m)\u001b[0m\u001b[0;34m\u001b[0m\u001b[0;34m\u001b[0m\u001b[0m\n\u001b[0m\u001b[1;32m    987\u001b[0m \u001b[0;34m\u001b[0m\u001b[0m\n\u001b[1;32m    988\u001b[0m       \u001b[0;31m# invariant: `func_outputs` contains only Tensors, CompositeTensors,\u001b[0m\u001b[0;34m\u001b[0m\u001b[0;34m\u001b[0m\u001b[0;34m\u001b[0m\u001b[0m\n",
      "\u001b[0;32m~/venv/lib/python3.8/site-packages/tensorflow/python/eager/def_function.py\u001b[0m in \u001b[0;36mwrapped_fn\u001b[0;34m(*args, **kwds)\u001b[0m\n\u001b[1;32m    598\u001b[0m         \u001b[0;31m# __wrapped__ allows AutoGraph to swap in a converted function. We give\u001b[0m\u001b[0;34m\u001b[0m\u001b[0;34m\u001b[0m\u001b[0;34m\u001b[0m\u001b[0m\n\u001b[1;32m    599\u001b[0m         \u001b[0;31m# the function a weak reference to itself to avoid a reference cycle.\u001b[0m\u001b[0;34m\u001b[0m\u001b[0;34m\u001b[0m\u001b[0;34m\u001b[0m\u001b[0m\n\u001b[0;32m--> 600\u001b[0;31m         \u001b[0;32mreturn\u001b[0m \u001b[0mweak_wrapped_fn\u001b[0m\u001b[0;34m(\u001b[0m\u001b[0;34m)\u001b[0m\u001b[0;34m.\u001b[0m\u001b[0m__wrapped__\u001b[0m\u001b[0;34m(\u001b[0m\u001b[0;34m*\u001b[0m\u001b[0margs\u001b[0m\u001b[0;34m,\u001b[0m \u001b[0;34m**\u001b[0m\u001b[0mkwds\u001b[0m\u001b[0;34m)\u001b[0m\u001b[0;34m\u001b[0m\u001b[0;34m\u001b[0m\u001b[0m\n\u001b[0m\u001b[1;32m    601\u001b[0m     \u001b[0mweak_wrapped_fn\u001b[0m \u001b[0;34m=\u001b[0m \u001b[0mweakref\u001b[0m\u001b[0;34m.\u001b[0m\u001b[0mref\u001b[0m\u001b[0;34m(\u001b[0m\u001b[0mwrapped_fn\u001b[0m\u001b[0;34m)\u001b[0m\u001b[0;34m\u001b[0m\u001b[0;34m\u001b[0m\u001b[0m\n\u001b[1;32m    602\u001b[0m \u001b[0;34m\u001b[0m\u001b[0m\n",
      "\u001b[0;32m~/venv/lib/python3.8/site-packages/tensorflow/python/framework/func_graph.py\u001b[0m in \u001b[0;36mwrapper\u001b[0;34m(*args, **kwargs)\u001b[0m\n\u001b[1;32m    971\u001b[0m           \u001b[0;32mexcept\u001b[0m \u001b[0mException\u001b[0m \u001b[0;32mas\u001b[0m \u001b[0me\u001b[0m\u001b[0;34m:\u001b[0m  \u001b[0;31m# pylint:disable=broad-except\u001b[0m\u001b[0;34m\u001b[0m\u001b[0;34m\u001b[0m\u001b[0m\n\u001b[1;32m    972\u001b[0m             \u001b[0;32mif\u001b[0m \u001b[0mhasattr\u001b[0m\u001b[0;34m(\u001b[0m\u001b[0me\u001b[0m\u001b[0;34m,\u001b[0m \u001b[0;34m\"ag_error_metadata\"\u001b[0m\u001b[0;34m)\u001b[0m\u001b[0;34m:\u001b[0m\u001b[0;34m\u001b[0m\u001b[0;34m\u001b[0m\u001b[0m\n\u001b[0;32m--> 973\u001b[0;31m               \u001b[0;32mraise\u001b[0m \u001b[0me\u001b[0m\u001b[0;34m.\u001b[0m\u001b[0mag_error_metadata\u001b[0m\u001b[0;34m.\u001b[0m\u001b[0mto_exception\u001b[0m\u001b[0;34m(\u001b[0m\u001b[0me\u001b[0m\u001b[0;34m)\u001b[0m\u001b[0;34m\u001b[0m\u001b[0;34m\u001b[0m\u001b[0m\n\u001b[0m\u001b[1;32m    974\u001b[0m             \u001b[0;32melse\u001b[0m\u001b[0;34m:\u001b[0m\u001b[0;34m\u001b[0m\u001b[0;34m\u001b[0m\u001b[0m\n\u001b[1;32m    975\u001b[0m               \u001b[0;32mraise\u001b[0m\u001b[0;34m\u001b[0m\u001b[0;34m\u001b[0m\u001b[0m\n",
      "\u001b[0;31mValueError\u001b[0m: in user code:\n\n    /home/grafd/venv/lib/python3.8/site-packages/tensorflow/python/keras/engine/training.py:806 train_function  *\n        return step_function(self, iterator)\n    /home/grafd/venv/lib/python3.8/site-packages/tensorflow/python/keras/engine/training.py:796 step_function  **\n        outputs = model.distribute_strategy.run(run_step, args=(data,))\n    /home/grafd/venv/lib/python3.8/site-packages/tensorflow/python/distribute/distribute_lib.py:1211 run\n        return self._extended.call_for_each_replica(fn, args=args, kwargs=kwargs)\n    /home/grafd/venv/lib/python3.8/site-packages/tensorflow/python/distribute/distribute_lib.py:2585 call_for_each_replica\n        return self._call_for_each_replica(fn, args, kwargs)\n    /home/grafd/venv/lib/python3.8/site-packages/tensorflow/python/distribute/distribute_lib.py:2945 _call_for_each_replica\n        return fn(*args, **kwargs)\n    /home/grafd/venv/lib/python3.8/site-packages/tensorflow/python/keras/engine/training.py:789 run_step  **\n        outputs = model.train_step(data)\n    /home/grafd/venv/lib/python3.8/site-packages/tensorflow/python/keras/engine/training.py:747 train_step\n        y_pred = self(x, training=True)\n    /home/grafd/venv/lib/python3.8/site-packages/tensorflow/python/keras/engine/base_layer.py:985 __call__\n        outputs = call_fn(inputs, *args, **kwargs)\n    /home/grafd/venv/lib/python3.8/site-packages/tensorflow/python/keras/engine/functional.py:385 call\n        return self._run_internal_graph(\n    /home/grafd/venv/lib/python3.8/site-packages/tensorflow/python/keras/engine/functional.py:508 _run_internal_graph\n        outputs = node.layer(*args, **kwargs)\n    /home/grafd/venv/lib/python3.8/site-packages/tensorflow/python/keras/engine/base_layer.py:975 __call__\n        input_spec.assert_input_compatibility(self.input_spec, inputs,\n    /home/grafd/venv/lib/python3.8/site-packages/tensorflow/python/keras/engine/input_spec.py:176 assert_input_compatibility\n        raise ValueError('Input ' + str(input_index) + ' of layer ' +\n\n    ValueError: Input 0 of layer time_distributed_9 is incompatible with the layer: expected ndim=3, found ndim=2. Full shape received: [None, 173]\n"
     ]
    }
   ],
   "source": [
    "model.fit(X_train, y_train_cat, validation_data=(X_test, y_test_cat), batch_size=128, epochs=2, verbose=1)"
   ]
  },
  {
   "cell_type": "code",
   "execution_count": 87,
   "id": "broadband-services",
   "metadata": {},
   "outputs": [
    {
     "name": "stdout",
     "output_type": "stream",
     "text": [
      "Requirement already satisfied: graphviz in /home/grafd/venv/lib/python3.8/site-packages (0.16)\n",
      "Requirement already satisfied: pydot in /home/grafd/venv/lib/python3.8/site-packages (1.4.2)\n",
      "Requirement already satisfied: pyparsing>=2.1.4 in /home/grafd/venv/lib/python3.8/site-packages (from pydot) (2.4.7)\n",
      "\u001b[33mWARNING: You are using pip version 20.2.1; however, version 21.0.1 is available.\n",
      "You should consider upgrading via the '/home/grafd/venv/bin/python -m pip install --upgrade pip' command.\u001b[0m\n"
     ]
    }
   ],
   "source": [
    "!pip install graphviz pydot"
   ]
  },
  {
   "cell_type": "code",
   "execution_count": 86,
   "id": "located-gabriel",
   "metadata": {},
   "outputs": [
    {
     "name": "stdout",
     "output_type": "stream",
     "text": [
      "('Failed to import pydot. You must `pip install pydot` and install graphviz (https://graphviz.gitlab.io/download/), ', 'for `pydotprint` to work.')\n"
     ]
    }
   ],
   "source": [
    "from keras.utils.vis_utils import plot_model\n",
    "\n",
    "plot_model(model, show_shapes=True, show_layer_names=False)"
   ]
  },
  {
   "cell_type": "markdown",
   "id": "current-compromise",
   "metadata": {},
   "source": [
    "Я ничего не понимаю..... Я пыталась понять, но у меня не получилось.... Очень грустно"
   ]
  },
  {
   "cell_type": "code",
   "execution_count": null,
   "id": "magnetic-lender",
   "metadata": {},
   "outputs": [],
   "source": []
  }
 ],
 "metadata": {
  "colab": {
   "collapsed_sections": [],
   "name": "hw6_twits.ipynb",
   "provenance": [],
   "toc_visible": true
  },
  "kernelspec": {
   "display_name": "Python 3",
   "language": "python",
   "name": "python3"
  },
  "language_info": {
   "codemirror_mode": {
    "name": "ipython",
    "version": 3
   },
   "file_extension": ".py",
   "mimetype": "text/x-python",
   "name": "python",
   "nbconvert_exporter": "python",
   "pygments_lexer": "ipython3",
   "version": "3.8.6"
  }
 },
 "nbformat": 4,
 "nbformat_minor": 5
}
